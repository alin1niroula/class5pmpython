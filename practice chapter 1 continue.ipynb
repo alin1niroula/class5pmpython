{
 "cells": [
  {
   "cell_type": "code",
   "execution_count": 1,
   "id": "7b9e00d5",
   "metadata": {},
   "outputs": [
    {
     "name": "stdout",
     "output_type": "stream",
     "text": [
      "enter a = 11 \n",
      "enter b = 22\n",
      "11 22\n"
     ]
    }
   ],
   "source": [
    "a=input(\"enter a = \")\n",
    "b=input(\"enter b = \")\n",
    "c=a+b\n",
    "print(c)"
   ]
  },
  {
   "cell_type": "code",
   "execution_count": 3,
   "id": "171cfd3b",
   "metadata": {},
   "outputs": [
    {
     "name": "stdout",
     "output_type": "stream",
     "text": [
      "enter p = 50000\n",
      "enter t = 5\n",
      "enter r - 3.5\n",
      "8750.0\n"
     ]
    }
   ],
   "source": [
    "#ptr/100\n",
    "p=float(input(\"enter p = \"))\n",
    "t=float(input(\"enter t = \"))\n",
    "r=float(input(\"enter r - \"))\n",
    "i=p*t*r/100\n",
    "print(i)"
   ]
  },
  {
   "cell_type": "code",
   "execution_count": 4,
   "id": "d27da102",
   "metadata": {},
   "outputs": [
    {
     "name": "stdout",
     "output_type": "stream",
     "text": [
      "enter p = 20000\n",
      "enter t = 10\n",
      "enter r = 5.5\n",
      "11000.0\n"
     ]
    }
   ],
   "source": [
    "p=float(input(\"enter p = \"))\n",
    "t=float(input(\"enter t = \"))\n",
    "r=float(input(\"enter r = \"))\n",
    "i=p*t*r/100\n",
    "print(i)"
   ]
  },
  {
   "cell_type": "code",
   "execution_count": null,
   "id": "9ca7e4f4",
   "metadata": {},
   "outputs": [],
   "source": []
  }
 ],
 "metadata": {
  "kernelspec": {
   "display_name": "Python 3 (ipykernel)",
   "language": "python",
   "name": "python3"
  },
  "language_info": {
   "codemirror_mode": {
    "name": "ipython",
    "version": 3
   },
   "file_extension": ".py",
   "mimetype": "text/x-python",
   "name": "python",
   "nbconvert_exporter": "python",
   "pygments_lexer": "ipython3",
   "version": "3.9.7"
  }
 },
 "nbformat": 4,
 "nbformat_minor": 5
}
