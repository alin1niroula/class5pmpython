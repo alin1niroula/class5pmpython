{
 "cells": [
  {
   "cell_type": "markdown",
   "id": "f1e36293",
   "metadata": {},
   "source": [
    "#dictionary"
   ]
  },
  {
   "cell_type": "code",
   "execution_count": 1,
   "id": "6b825845",
   "metadata": {},
   "outputs": [],
   "source": [
    "#indexed\n",
    "#ordered\n",
    "#duplicate and multipal data\n",
    "#mutable"
   ]
  },
  {
   "cell_type": "code",
   "execution_count": 2,
   "id": "5a3c59ef",
   "metadata": {},
   "outputs": [],
   "source": [
    " #d={<key>:<value>,<key>:<value>}"
   ]
  },
  {
   "cell_type": "code",
   "execution_count": 4,
   "id": "9e87e38e",
   "metadata": {},
   "outputs": [
    {
     "name": "stdout",
     "output_type": "stream",
     "text": [
      "{'a': 'apple', 'b': 'ball', 'c': 'cat'}\n"
     ]
    }
   ],
   "source": [
    "d={'a':\"apple\",'b':\"ball\",'c':\"cat\"}\n",
    "print(d)"
   ]
  },
  {
   "cell_type": "code",
   "execution_count": 5,
   "id": "df09fd38",
   "metadata": {},
   "outputs": [
    {
     "name": "stdout",
     "output_type": "stream",
     "text": [
      "ball\n"
     ]
    }
   ],
   "source": [
    "print(d['b'])"
   ]
  },
  {
   "cell_type": "code",
   "execution_count": 7,
   "id": "c7320b3d",
   "metadata": {},
   "outputs": [
    {
     "name": "stdout",
     "output_type": "stream",
     "text": [
      "{'a': 'apple', 'b': 'ball', 'c': 'cat', 'A': 'Apple'}\n"
     ]
    }
   ],
   "source": [
    "d={'a':\"apple\",'b':\"ball\",'c':\"cat\",'A':'Apple'}\n",
    "print(d)\n"
   ]
  },
  {
   "cell_type": "code",
   "execution_count": 9,
   "id": "973b86f6",
   "metadata": {},
   "outputs": [
    {
     "name": "stdout",
     "output_type": "stream",
     "text": [
      "{'a': 'ant', 'b': 'ball', 'c': 'cat'}\n"
     ]
    }
   ],
   "source": [
    "d={'a':\"apple\",'b':\"ball\",'c':\"cat\",'a':\"ant\"}\n",
    "print(d)"
   ]
  },
  {
   "cell_type": "code",
   "execution_count": 11,
   "id": "a1d69972",
   "metadata": {},
   "outputs": [
    {
     "name": "stdout",
     "output_type": "stream",
     "text": [
      "{'a': 'apple', 'b': 'ball'}\n"
     ]
    }
   ],
   "source": [
    "#a=dict()      #we can indiccate dictionary with this as well or\n",
    "\n",
    "a={}\n",
    "a['a']=\"apple\"\n",
    "a['b']=\"ball\"\n",
    "print(a)\n",
    "\n",
    "\n",
    "\n"
   ]
  },
  {
   "cell_type": "code",
   "execution_count": 13,
   "id": "4fb5ca1a",
   "metadata": {},
   "outputs": [
    {
     "name": "stdout",
     "output_type": "stream",
     "text": [
      "enter n = 2\n",
      "enter name = ram\n",
      "enter phone = 1234\n",
      "enter name = shyam\n",
      "enter phone = 5678\n",
      "{'ram': 1234, 'shyam': 5678}\n"
     ]
    }
   ],
   "source": [
    "#{'ram':1234,'shyam':5678}\n",
    "\n",
    "info={}\n",
    "n=int(input(\"enter n = \"))\n",
    "for i in range(n):\n",
    "    name=input(\"enter name = \")\n",
    "    phone=int(input(\"enter phone = \"))\n",
    "    info[name]=phone\n",
    "    \n",
    "print(info)"
   ]
  },
  {
   "cell_type": "code",
   "execution_count": 15,
   "id": "08d2fa3a",
   "metadata": {},
   "outputs": [
    {
     "name": "stdout",
     "output_type": "stream",
     "text": [
      "ram\n",
      "shyam\n"
     ]
    }
   ],
   "source": [
    "a={'ram':1234,'shyam':5678}\n",
    "for i in a:\n",
    "    print(i)"
   ]
  },
  {
   "cell_type": "code",
   "execution_count": 17,
   "id": "508c2d43",
   "metadata": {},
   "outputs": [
    {
     "name": "stdout",
     "output_type": "stream",
     "text": [
      "1234\n",
      "5678\n"
     ]
    }
   ],
   "source": [
    "a={'ram':1234,'shyam':5678}\n",
    "for i in a.values():\n",
    "    print(i)"
   ]
  },
  {
   "cell_type": "code",
   "execution_count": 18,
   "id": "4964e1f7",
   "metadata": {},
   "outputs": [
    {
     "name": "stdout",
     "output_type": "stream",
     "text": [
      "('ram', 1234)\n",
      "('shyam', 5678)\n"
     ]
    }
   ],
   "source": [
    "a={'ram':1234,'shyam':5678}\n",
    "for i in a.items():\n",
    "    print(i)"
   ]
  },
  {
   "cell_type": "code",
   "execution_count": 19,
   "id": "1d0a53d8",
   "metadata": {},
   "outputs": [
    {
     "name": "stdout",
     "output_type": "stream",
     "text": [
      "{'ram': 87654, 'shyam': 5678}\n"
     ]
    }
   ],
   "source": [
    "a={'ram':1234,'shyam':5678}\n",
    "a['ram']=87654\n",
    "print(a)"
   ]
  },
  {
   "cell_type": "code",
   "execution_count": 20,
   "id": "612bbc5e",
   "metadata": {},
   "outputs": [
    {
     "name": "stdout",
     "output_type": "stream",
     "text": [
      "{'shyam': 5678}\n"
     ]
    }
   ],
   "source": [
    "a={'ram':1234,'shyam':5678}\n",
    "del a['ram']\n",
    "print(a)"
   ]
  },
  {
   "cell_type": "code",
   "execution_count": 21,
   "id": "285e089a",
   "metadata": {},
   "outputs": [
    {
     "name": "stdout",
     "output_type": "stream",
     "text": [
      "{'shyam': 5678}\n"
     ]
    }
   ],
   "source": [
    "a={'ram':1234,'shyam':5678}\n",
    "a.pop('ram')\n",
    "print(a)"
   ]
  },
  {
   "cell_type": "code",
   "execution_count": null,
   "id": "a1189b0e",
   "metadata": {},
   "outputs": [],
   "source": []
  },
  {
   "cell_type": "code",
   "execution_count": 22,
   "id": "60632499",
   "metadata": {},
   "outputs": [
    {
     "name": "stdout",
     "output_type": "stream",
     "text": [
      "{'ram': 1234, 'shyam': 5678, 'hari': 55544}\n"
     ]
    }
   ],
   "source": [
    "a={'ram':1234,'shyam':5678}\n",
    "b={'hari':55544}\n",
    "a.update(b)\n",
    "print(a)"
   ]
  },
  {
   "cell_type": "code",
   "execution_count": 23,
   "id": "d1778f52",
   "metadata": {},
   "outputs": [
    {
     "name": "stdout",
     "output_type": "stream",
     "text": [
      "{'ram': [1234, 998877], 'shyam': [5678, 887744]}\n"
     ]
    }
   ],
   "source": [
    "a={'ram':[1234,998877],\n",
    "   'shyam':[5678,887744]}\n",
    "print(a)\n"
   ]
  },
  {
   "cell_type": "code",
   "execution_count": 24,
   "id": "e4a4fbcd",
   "metadata": {},
   "outputs": [
    {
     "data": {
      "text/plain": [
       "[1234, 998877]"
      ]
     },
     "execution_count": 24,
     "metadata": {},
     "output_type": "execute_result"
    }
   ],
   "source": [
    "a['ram']"
   ]
  },
  {
   "cell_type": "code",
   "execution_count": 25,
   "id": "d3950f13",
   "metadata": {},
   "outputs": [
    {
     "data": {
      "text/plain": [
       "[5678, 887744]"
      ]
     },
     "execution_count": 25,
     "metadata": {},
     "output_type": "execute_result"
    }
   ],
   "source": [
    "a['shyam']\n"
   ]
  },
  {
   "cell_type": "code",
   "execution_count": 26,
   "id": "3a2ca9f1",
   "metadata": {},
   "outputs": [
    {
     "name": "stdout",
     "output_type": "stream",
     "text": [
      "{'ram': [1234, 998877], 'shyam': [5678, 887744], 'hari': [333222, 555666]}\n"
     ]
    }
   ],
   "source": [
    "a['hari']=[333222,555666]\n",
    "print(a)"
   ]
  },
  {
   "cell_type": "code",
   "execution_count": 27,
   "id": "f735b9bf",
   "metadata": {},
   "outputs": [
    {
     "name": "stdout",
     "output_type": "stream",
     "text": [
      "{'ram': [1234, 998877], 'shyam': [5678, 887744], 'hari': [996633, 555666]}\n"
     ]
    }
   ],
   "source": [
    "a['hari'][0]=996633\n",
    "print(a)"
   ]
  },
  {
   "cell_type": "code",
   "execution_count": 29,
   "id": "756e3684",
   "metadata": {},
   "outputs": [
    {
     "name": "stdout",
     "output_type": "stream",
     "text": [
      "{'ram': [1234, 998877], 'shyam': [5678, 887744], 'hari': [555666]}\n"
     ]
    }
   ],
   "source": [
    " del a['hari'][0]\n",
    "print(a)"
   ]
  },
  {
   "cell_type": "code",
   "execution_count": 3,
   "id": "8f7cb821",
   "metadata": {},
   "outputs": [
    {
     "name": "stdout",
     "output_type": "stream",
     "text": [
      "enter n = 2\n",
      "enter name = hari\n",
      "enter ntc phone = 666666\n",
      "enter ncell phone = 555555\n",
      "enter name = bharat\n",
      "enter ntc phone = 9808009260\n",
      "enter ncell phone = 999999\n",
      "{'hari': [666666, 555555], 'bharat': [9808009260, 999999]}\n"
     ]
    }
   ],
   "source": [
    "info={}\n",
    "\n",
    "n=int(input(\"enter n = \"))\n",
    "for i in range(n):\n",
    "    name=input(\"enter name = \")\n",
    "    ntc_phone=int(input(\"enter ntc phone = \"))\n",
    "    ncell_phone=int(input(\"enter ncell phone = \"))\n",
    "    info[name]=[ntc_phone,ncell_phone]\n",
    "    \n",
    "print(info)"
   ]
  },
  {
   "cell_type": "code",
   "execution_count": 37,
   "id": "5aa50bdd",
   "metadata": {},
   "outputs": [],
   "source": [
    "a={\"name\":[\"ram\",\"shyam\"],\n",
    "   \"age\":[23,24],\n",
    "   \"address\":[\"kathmandu\",\"lalitpur\"]}"
   ]
  },
  {
   "cell_type": "code",
   "execution_count": 6,
   "id": "df286d38",
   "metadata": {},
   "outputs": [
    {
     "name": "stdout",
     "output_type": "stream",
     "text": [
      "enter n = 2\n",
      "enter name = hari\n",
      "enter age = 22\n",
      "enter address = jhapa\n"
     ]
    },
    {
     "ename": "NameError",
     "evalue": "name 'a' is not defined",
     "output_type": "error",
     "traceback": [
      "\u001b[1;31m---------------------------------------------------------------------------\u001b[0m",
      "\u001b[1;31mNameError\u001b[0m                                 Traceback (most recent call last)",
      "\u001b[1;32m~\\AppData\\Local\\Temp/ipykernel_7136/3230226211.py\u001b[0m in \u001b[0;36m<module>\u001b[1;34m\u001b[0m\n\u001b[0;32m      6\u001b[0m     \u001b[0maddress\u001b[0m\u001b[1;33m=\u001b[0m\u001b[0minput\u001b[0m\u001b[1;33m(\u001b[0m\u001b[1;34m\"enter address = \"\u001b[0m\u001b[1;33m)\u001b[0m\u001b[1;33m\u001b[0m\u001b[1;33m\u001b[0m\u001b[0m\n\u001b[0;32m      7\u001b[0m \u001b[1;33m\u001b[0m\u001b[0m\n\u001b[1;32m----> 8\u001b[1;33m     \u001b[0minfo\u001b[0m\u001b[1;33m[\u001b[0m\u001b[1;34m'name'\u001b[0m\u001b[1;33m]\u001b[0m\u001b[1;33m=\u001b[0m\u001b[0ma\u001b[0m\u001b[1;33m.\u001b[0m\u001b[0mappend\u001b[0m\u001b[1;33m(\u001b[0m\u001b[0mname\u001b[0m\u001b[1;33m)\u001b[0m\u001b[1;33m\u001b[0m\u001b[1;33m\u001b[0m\u001b[0m\n\u001b[0m\u001b[0;32m      9\u001b[0m     \u001b[0minfo\u001b[0m\u001b[1;33m[\u001b[0m\u001b[1;34m'age'\u001b[0m\u001b[1;33m]\u001b[0m\u001b[1;33m=\u001b[0m\u001b[0ma\u001b[0m\u001b[1;33m.\u001b[0m\u001b[0mappend\u001b[0m\u001b[1;33m(\u001b[0m\u001b[0mage\u001b[0m\u001b[1;33m)\u001b[0m\u001b[1;33m\u001b[0m\u001b[1;33m\u001b[0m\u001b[0m\n\u001b[0;32m     10\u001b[0m     \u001b[0minfo\u001b[0m\u001b[1;33m[\u001b[0m\u001b[1;34m'address'\u001b[0m\u001b[1;33m]\u001b[0m\u001b[1;33m=\u001b[0m\u001b[0ma\u001b[0m\u001b[1;33m.\u001b[0m\u001b[0mappend\u001b[0m\u001b[1;33m(\u001b[0m\u001b[0madress\u001b[0m\u001b[1;33m)\u001b[0m\u001b[1;33m\u001b[0m\u001b[1;33m\u001b[0m\u001b[0m\n",
      "\u001b[1;31mNameError\u001b[0m: name 'a' is not defined"
     ]
    }
   ],
   "source": [
    "info=={\"name\":[],\"age\":[],\"address\":[]}\n",
    "n=int(input(\"enter n = \"))\n",
    "for i in range(n):\n",
    "    name=input(\"enter name = \")\n",
    "    age=input(\"enter age = \")\n",
    "    address=input(\"enter address = \")\n",
    "    \n",
    "    info['name']=a.append(name)\n",
    "    info['age']=a.append(age)\n",
    "    info['address']=a.append(adress)\n",
    "    \n",
    "print(info)"
   ]
  },
  {
   "cell_type": "code",
   "execution_count": 8,
   "id": "649f8367",
   "metadata": {},
   "outputs": [
    {
     "name": "stdout",
     "output_type": "stream",
     "text": [
      "enter name = ram\n",
      "{'name': ['shyam'], 'age': [24], 'address': ['lalitpur']}\n"
     ]
    }
   ],
   "source": [
    "a={\"name\":[\"ram\",\"shyam\"],\n",
    "   \"age\":[23,24],\n",
    "   \"address\":[\"kathmandu\",\"lalitpur\"]}\n",
    "name=input(\"enter name = \")\n",
    "\n",
    "index=a[\"name\"].index(name)\n",
    "\n",
    "del a[\"name\"][index]\n",
    "del a[\"age\"][index]\n",
    "del a[\"address\"][index]\n",
    "print(a)"
   ]
  },
  {
   "cell_type": "code",
   "execution_count": 9,
   "id": "0a0b3ff3",
   "metadata": {},
   "outputs": [
    {
     "name": "stdout",
     "output_type": "stream",
     "text": [
      "enter name = bharat\n"
     ]
    },
    {
     "ename": "ValueError",
     "evalue": "'bharat' is not in list",
     "output_type": "error",
     "traceback": [
      "\u001b[1;31m---------------------------------------------------------------------------\u001b[0m",
      "\u001b[1;31mValueError\u001b[0m                                Traceback (most recent call last)",
      "\u001b[1;32m~\\AppData\\Local\\Temp/ipykernel_7136/983856946.py\u001b[0m in \u001b[0;36m<module>\u001b[1;34m\u001b[0m\n\u001b[0;32m      4\u001b[0m \u001b[0mname\u001b[0m\u001b[1;33m=\u001b[0m\u001b[0minput\u001b[0m\u001b[1;33m(\u001b[0m\u001b[1;34m\"enter name = \"\u001b[0m\u001b[1;33m)\u001b[0m\u001b[1;33m\u001b[0m\u001b[1;33m\u001b[0m\u001b[0m\n\u001b[0;32m      5\u001b[0m \u001b[1;33m\u001b[0m\u001b[0m\n\u001b[1;32m----> 6\u001b[1;33m \u001b[0mindex\u001b[0m\u001b[1;33m=\u001b[0m\u001b[0ma\u001b[0m\u001b[1;33m[\u001b[0m\u001b[1;34m\"name\"\u001b[0m\u001b[1;33m]\u001b[0m\u001b[1;33m.\u001b[0m\u001b[0mindex\u001b[0m\u001b[1;33m(\u001b[0m\u001b[0mname\u001b[0m\u001b[1;33m)\u001b[0m\u001b[1;33m\u001b[0m\u001b[1;33m\u001b[0m\u001b[0m\n\u001b[0m\u001b[0;32m      7\u001b[0m \u001b[1;33m\u001b[0m\u001b[0m\n\u001b[0;32m      8\u001b[0m \u001b[0ma\u001b[0m\u001b[1;33m[\u001b[0m\u001b[1;34m\"name\"\u001b[0m\u001b[1;33m]\u001b[0m\u001b[1;33m[\u001b[0m\u001b[0mindex\u001b[0m\u001b[1;33m]\u001b[0m\u001b[1;33m.\u001b[0m\u001b[0mupdate\u001b[0m\u001b[1;33m\u001b[0m\u001b[1;33m\u001b[0m\u001b[0m\n",
      "\u001b[1;31mValueError\u001b[0m: 'bharat' is not in list"
     ]
    }
   ],
   "source": [
    "a={\"name\":[\"ram\",\"shyam\"],\n",
    "   \"age\":[23,24],\n",
    "   \"address\":[\"kathmandu\",\"lalitpur\"]}\n",
    "name=input(\"enter name = \")\n",
    "\n",
    "index=a[\"name\"].index(name)\n",
    "\n",
    "a[\"name\"][index].update\n",
    "a[\"age\"][index].update\n",
    "a[\"address\"][index].update\n",
    "print(a)"
   ]
  },
  {
   "cell_type": "code",
   "execution_count": 10,
   "id": "0cf9eb27",
   "metadata": {},
   "outputs": [],
   "source": [
    "#dict inside dic\n",
    "\n",
    "a={1:{\"name\":\"ram\",\"age\":34,\"adress\":\"kathmandu\"},\n",
    "  2: {\"name\":\"shyam\",\"age\":22,\"adress\":\"lalitpur\"},\n",
    "  3: {\"name\":\"hari\",\"age\":55,\"adress\":\"bhaktaput\"}}"
   ]
  },
  {
   "cell_type": "code",
   "execution_count": 13,
   "id": "b559c6fe",
   "metadata": {},
   "outputs": [
    {
     "name": "stdout",
     "output_type": "stream",
     "text": [
      "{1: {'name': 'ram', 'age': 34, 'adress': 'kathmandu'}, 2: {'name': 'shyam', 'age': 22, 'adress': 'lalitpur'}, 3: {'name': 'hari', 'age': 55, 'adress': 'bhaktaput'}, 4: {'name': 'sita', 'age': 16, 'adress': 'jhapa'}}\n"
     ]
    }
   ],
   "source": [
    "a[4]={\"name\":\"sita\",\"age\":16,\"adress\":\"jhapa\"}        #for update\n",
    "print(a)"
   ]
  },
  {
   "cell_type": "code",
   "execution_count": 14,
   "id": "ef0ca301",
   "metadata": {},
   "outputs": [
    {
     "name": "stdout",
     "output_type": "stream",
     "text": [
      "{1: {'name': 'bharat', 'age': 35, 'adress': 'morang'}, 2: {'name': 'shyam', 'age': 22, 'adress': 'lalitpur'}, 3: {'name': 'hari', 'age': 55, 'adress': 'bhaktaput'}, 4: {'name': 'sita', 'age': 16, 'adress': 'jhapa'}}\n"
     ]
    }
   ],
   "source": [
    "a[1]={\"name\":\"bharat\",\"age\":35,\"adress\":\"morang\"}\n",
    "print(a)"
   ]
  },
  {
   "cell_type": "code",
   "execution_count": 16,
   "id": "7286fe7c",
   "metadata": {},
   "outputs": [
    {
     "name": "stdout",
     "output_type": "stream",
     "text": [
      "{1: {'name': 'selina', 'age': 35, 'adress': 'morang'}, 2: {'name': 'shyam', 'age': 22, 'adress': 'lalitpur'}, 3: {'name': 'hari', 'age': 55, 'adress': 'bhaktaput'}, 4: {'name': 'sita', 'age': 16, 'adress': 'jhapa'}}\n"
     ]
    }
   ],
   "source": [
    "a[1][\"name\"]=\"selina\"\n",
    "print(a)"
   ]
  },
  {
   "cell_type": "code",
   "execution_count": null,
   "id": "59bb436f",
   "metadata": {},
   "outputs": [],
   "source": [
    "# "
   ]
  }
 ],
 "metadata": {
  "kernelspec": {
   "display_name": "Python 3 (ipykernel)",
   "language": "python",
   "name": "python3"
  },
  "language_info": {
   "codemirror_mode": {
    "name": "ipython",
    "version": 3
   },
   "file_extension": ".py",
   "mimetype": "text/x-python",
   "name": "python",
   "nbconvert_exporter": "python",
   "pygments_lexer": "ipython3",
   "version": "3.9.7"
  }
 },
 "nbformat": 4,
 "nbformat_minor": 5
}
