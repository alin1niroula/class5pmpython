{
 "cells": [
  {
   "cell_type": "code",
   "execution_count": null,
   "id": "021777cd",
   "metadata": {},
   "outputs": [],
   "source": [
    "#while loop\n",
    "#while <condition>:\n",
    "#    <operation>"
   ]
  },
  {
   "cell_type": "code",
   "execution_count": null,
   "id": "c3b70e6d",
   "metadata": {},
   "outputs": [],
   "source": [
    "a=0\n",
    "while a<5:\n",
    "    print(\"hello world\")\n",
    "    a=a+1"
   ]
  },
  {
   "cell_type": "code",
   "execution_count": null,
   "id": "ea9ab4b6",
   "metadata": {},
   "outputs": [],
   "source": [
    "a=0\n",
    "while a<5:\n",
    "    print(a,\"hello world\")\n",
    "    a=a+1"
   ]
  },
  {
   "cell_type": "code",
   "execution_count": null,
   "id": "f930fd41",
   "metadata": {},
   "outputs": [],
   "source": [
    "a=0\n",
    "while a<5:\n",
    "    print(\"hello world\")\n",
    "    a= a+0.5"
   ]
  },
  {
   "cell_type": "code",
   "execution_count": null,
   "id": "8e3a27bc",
   "metadata": {},
   "outputs": [],
   "source": [
    "i=1\n",
    "n= int(input(\"enter n =\"))\n",
    "while i<=10:\n",
    "    print(n,\"*\",i,\"=\",n*i)\n",
    "    i=i+1"
   ]
  },
  {
   "cell_type": "code",
   "execution_count": null,
   "id": "26134941",
   "metadata": {},
   "outputs": [],
   "source": [
    "s=0\n",
    "i=0\n",
    "n=int(input(\"enter n =\"))\n",
    "while i<n:\n",
    "    x=int(input(\"enter x = \"))\n",
    "    s=s+x\n",
    "    i=i+1\n",
    "print(s)"
   ]
  },
  {
   "cell_type": "code",
   "execution_count": null,
   "id": "2ccb2921",
   "metadata": {},
   "outputs": [],
   "source": [
    "#5! = 1*2*3*4*5\n",
    "fac=1\n",
    "i=1\n",
    "n=int(input(\"enter n =\"))\n",
    "while i<=n:\n",
    "    fac=fac*i\n",
    "    i=i+1\n",
    "    print(fac)"
   ]
  },
  {
   "cell_type": "code",
   "execution_count": null,
   "id": "98e3b390",
   "metadata": {},
   "outputs": [],
   "source": [
    "i=0\n",
    "s=str()\n",
    "n=int(input(\"enter n = \"))\n",
    "while i<n:\n",
    "    name=input(\"enter name =\")\n",
    "    phone=input(\"enter phone =\")\n",
    "    \n",
    "    s=s+name+\"--\"+phone+\"\\n\"\n",
    "    i=i+1\n",
    "    print(s)"
   ]
  },
  {
   "cell_type": "code",
   "execution_count": null,
   "id": "cd270783",
   "metadata": {},
   "outputs": [],
   "source": [
    "i=0\n",
    "s=str()\n",
    "n=int(input(\"enter n = \"))\n",
    "while i<n:\n",
    "    name=input(\"enter name =\")\n",
    "    phone=input(\"enter phone =\")\n",
    "    \n",
    "    s=s+name+\"--\"+phone+\"\\n\"\n",
    "    i=i+1\n",
    "    print(s)\n"
   ]
  },
  {
   "cell_type": "code",
   "execution_count": null,
   "id": "272702be",
   "metadata": {},
   "outputs": [],
   "source": [
    "i=0\n",
    "a=\"python\"\n",
    "\n",
    "1=len(a)\n",
    "while i<1:\n",
    "    print(i,a{i})\n",
    "    i=i+1\n",
    "    \n",
    "    "
   ]
  },
  {
   "cell_type": "code",
   "execution_count": null,
   "id": "0ff8fa57",
   "metadata": {},
   "outputs": [],
   "source": [
    "i=0\n",
    "a=\"python\"\n",
    "\n",
    "1=len(a)\n",
    "while i<1:\n",
    "    print(i,a[i])\n",
    "    i=i+1"
   ]
  },
  {
   "cell_type": "code",
   "execution_count": null,
   "id": "5f6fc93a",
   "metadata": {},
   "outputs": [],
   "source": [
    "# control statements\n",
    "#break\n",
    "#continue\n",
    "#pass"
   ]
  },
  {
   "cell_type": "code",
   "execution_count": null,
   "id": "f65b69d9",
   "metadata": {},
   "outputs": [],
   "source": [
    "for i in range(10):\n",
    "if i ==5:\n",
    "    break\n",
    "    else:\n",
    "        print(i)"
   ]
  },
  {
   "cell_type": "code",
   "execution_count": 1,
   "id": "2f559c44",
   "metadata": {},
   "outputs": [
    {
     "name": "stdout",
     "output_type": "stream",
     "text": [
      "h\n",
      "e\n",
      "l\n",
      "l\n",
      "o\n",
      " \n",
      "w\n",
      "o\n",
      "r\n",
      "l\n",
      "d\n"
     ]
    }
   ],
   "source": [
    "a= \"hello world\"\n",
    "for i in a:\n",
    "    if i==\"5\":\n",
    "        break\n",
    "    else:\n",
    "        print(i)"
   ]
  },
  {
   "cell_type": "code",
   "execution_count": 4,
   "id": "d884e976",
   "metadata": {},
   "outputs": [
    {
     "name": "stdout",
     "output_type": "stream",
     "text": [
      "h\n",
      "e\n",
      "l\n",
      "l\n",
      "o\n",
      " \n",
      "w\n",
      "o\n",
      "r\n",
      "l\n",
      "d\n"
     ]
    }
   ],
   "source": [
    "a= \"hello world\"\n",
    "for i in a:\n",
    "    if i==5:\n",
    "        continue\n",
    "    print(i)"
   ]
  },
  {
   "cell_type": "code",
   "execution_count": 6,
   "id": "05f11b27",
   "metadata": {},
   "outputs": [
    {
     "name": "stdout",
     "output_type": "stream",
     "text": [
      "h.e.l.l.o. .w.o.r.l.d."
     ]
    }
   ],
   "source": [
    "a= \"hello world\"\n",
    "for i in a:\n",
    "    if i==5:\n",
    "        continue\n",
    "    print(i,end=\".\")"
   ]
  },
  {
   "cell_type": "code",
   "execution_count": 8,
   "id": "5b936798",
   "metadata": {},
   "outputs": [
    {
     "name": "stdout",
     "output_type": "stream",
     "text": [
      "helloworld"
     ]
    }
   ],
   "source": [
    "a= \"hello world\"\n",
    "for i in a:\n",
    "    if i==\" \":\n",
    "        continue\n",
    "    print(i,end=\"\")"
   ]
  },
  {
   "cell_type": "code",
   "execution_count": null,
   "id": "15708144",
   "metadata": {},
   "outputs": [],
   "source": []
  }
 ],
 "metadata": {
  "kernelspec": {
   "display_name": "Python 3 (ipykernel)",
   "language": "python",
   "name": "python3"
  },
  "language_info": {
   "codemirror_mode": {
    "name": "ipython",
    "version": 3
   },
   "file_extension": ".py",
   "mimetype": "text/x-python",
   "name": "python",
   "nbconvert_exporter": "python",
   "pygments_lexer": "ipython3",
   "version": "3.9.7"
  }
 },
 "nbformat": 4,
 "nbformat_minor": 5
}
