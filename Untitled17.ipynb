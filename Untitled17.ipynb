{
 "cells": [
  {
   "cell_type": "code",
   "execution_count": null,
   "id": "4e5f18f1",
   "metadata": {},
   "outputs": [],
   "source": [
    "s=str()\n",
    "number=int(input(\"enter number = \"))\n",
    "for i in range(number):\n",
    "    \n",
    "    product=input(\"enter product = \")\n",
    "    quantity=int(input(\"enter quantity = \"))\n",
    "    price=int(input(\"enter price = \"))\n",
    "    \n",
    "    s=(product,quantity,price)\n",
    "     number=price*quantity\n",
    "print(s)"
   ]
  },
  {
   "cell_type": "code",
   "execution_count": null,
   "id": "22bdba3d",
   "metadata": {},
   "outputs": [],
   "source": []
  },
  {
   "cell_type": "code",
   "execution_count": null,
   "id": "b5854060",
   "metadata": {},
   "outputs": [],
   "source": []
  }
 ],
 "metadata": {
  "kernelspec": {
   "display_name": "Python 3 (ipykernel)",
   "language": "python",
   "name": "python3"
  },
  "language_info": {
   "codemirror_mode": {
    "name": "ipython",
    "version": 3
   },
   "file_extension": ".py",
   "mimetype": "text/x-python",
   "name": "python",
   "nbconvert_exporter": "python",
   "pygments_lexer": "ipython3",
   "version": "3.9.7"
  }
 },
 "nbformat": 4,
 "nbformat_minor": 5
}
