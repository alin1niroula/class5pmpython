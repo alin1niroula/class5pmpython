{
 "cells": [
  {
   "cell_type": "code",
   "execution_count": 1,
   "id": "bd20ccd7",
   "metadata": {},
   "outputs": [
    {
     "name": "stdout",
     "output_type": "stream",
     "text": [
      "enter n = 3\n",
      "enter name = bharat\n",
      "enter salary = 10000\n",
      "enter cell = 9999999\n",
      "enter locationn = kathmandu\n",
      "enter name = alin\n",
      "enter salary = 15000\n",
      "enter cell = 88888888\n",
      "enter locationn = bhaktapur\n",
      "enter name = selina\n",
      "enter salary = 20000\n",
      "enter cell = 777777\n",
      "enter locationn = kirtipur\n",
      "{'name': ['salary', 'cell', 'location']}\n"
     ]
    }
   ],
   "source": [
    "info={}\n",
    "n=int(input(\"enter n = \"))\n",
    "for i in range (n):\n",
    "    name=input(\"enter name = \")\n",
    "    salary=int(input(\"enter salary = \"))\n",
    "    cell=int(input(\"enter cell = \"))\n",
    "    location=input(\"enter locationn = \")\n",
    "    info['name']=[\"salary\",\"cell\",\"location\"]\n",
    "print(info)"
   ]
  },
  {
   "cell_type": "code",
   "execution_count": null,
   "id": "647e8cdc",
   "metadata": {},
   "outputs": [],
   "source": []
  }
 ],
 "metadata": {
  "kernelspec": {
   "display_name": "Python 3 (ipykernel)",
   "language": "python",
   "name": "python3"
  },
  "language_info": {
   "codemirror_mode": {
    "name": "ipython",
    "version": 3
   },
   "file_extension": ".py",
   "mimetype": "text/x-python",
   "name": "python",
   "nbconvert_exporter": "python",
   "pygments_lexer": "ipython3",
   "version": "3.9.7"
  }
 },
 "nbformat": 4,
 "nbformat_minor": 5
}
