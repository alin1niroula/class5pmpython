{
 "cells": [
  {
   "cell_type": "code",
   "execution_count": 1,
   "id": "abd9313c",
   "metadata": {},
   "outputs": [],
   "source": [
    "#csv and panda"
   ]
  },
  {
   "cell_type": "code",
   "execution_count": 2,
   "id": "f2cc3c6c",
   "metadata": {},
   "outputs": [],
   "source": [
    "#csv      #comma sepreated values"
   ]
  },
  {
   "cell_type": "code",
   "execution_count": 4,
   "id": "e3df86fe",
   "metadata": {},
   "outputs": [
    {
     "name": "stdout",
     "output_type": "stream",
     "text": [
      "Enter n = 2\n",
      "Enter name = hari\n",
      "Enter phone = 646464\n",
      "Enter name = ram\n",
      "Enter phone = 464\n",
      "hari,646464\n",
      "ram,464\n",
      "\n"
     ]
    }
   ],
   "source": [
    "s = str()                                       \n",
    "n = int(input(\"Enter n = \"))\n",
    "for i in range(n):\n",
    "    name = input(\"Enter name = \")\n",
    "    phone = input(\"Enter phone = \")\n",
    "    \n",
    "    s = s+f\"{name},{phone}\\n\"                    \n",
    "print(s)\n",
    "\n",
    "b=open('phone.csv','a')                \n",
    "b.write(s)\n",
    "b.close()"
   ]
  },
  {
   "cell_type": "code",
   "execution_count": 2,
   "id": "0e9b6de4",
   "metadata": {},
   "outputs": [
    {
     "name": "stdout",
     "output_type": "stream",
     "text": [
      "Enter n = 2\n",
      "Enter name = bharat\n",
      "Enter phone = 33333\n",
      "enter addressdamak, jhapa\n",
      "Enter name = alin\n",
      "Enter phone = 5555\n",
      "enter addresslalitpur\n",
      "bharat,33333,damak, jhapa\n",
      "alin,5555,lalitpur\n",
      "\n"
     ]
    }
   ],
   "source": [
    "s = str()                                      \n",
    "n = int(input(\"Enter n = \"))\n",
    "for i in range(n):\n",
    "    name = input(\"Enter name = \")\n",
    "    age = input(\"Enter phone = \")\n",
    "    address=input(\"enter address\")\n",
    "    s = s+f\"{name},{age},{address}\\n\"                    \n",
    "print(s)\n",
    "\n",
    "b=open('bio.txt','a')                \n",
    "b.write(s)\n",
    "b.close()\n"
   ]
  },
  {
   "cell_type": "code",
   "execution_count": null,
   "id": "4c705325",
   "metadata": {},
   "outputs": [
    {
     "name": "stdout",
     "output_type": "stream",
     "text": [
      "Enter n = 6\n",
      "Enter name = hari\n",
      "Enter phone = 55565655\n"
     ]
    }
   ],
   "source": [
    "s = str()                                       #to add data on the same txt file\n",
    "n = int(input(\"Enter n = \"))\n",
    "for i in range(n):\n",
    "    name = input(\"Enter name = \")\n",
    "    phone = input(\"Enter phone = \")\n",
    "    \n",
    "    s = s+f\"{name} {phone}\\n\"                    #can be use this formula insted of s = s+name+\"--\"+phone+\"\\n\"\n",
    "print(s)\n",
    "\n",
    "b=open('phone.txt','a')                \n",
    "b.write(s)\n",
    "b.close()"
   ]
  },
  {
   "cell_type": "code",
   "execution_count": 1,
   "id": "b6e56df6",
   "metadata": {},
   "outputs": [
    {
     "name": "stdout",
     "output_type": "stream",
     "text": [
      "Enter n = 6\n",
      "Enter name = alin\n",
      "Enter phone = 7777\n",
      "enter addressdamak\n",
      "Enter name = hari\n",
      "Enter phone = 88888\n",
      "enter addressmorang\n",
      "Enter name = ram\n",
      "Enter phone = 99999\n",
      "enter addresssarlahai\n",
      "Enter name = bharat\n",
      "Enter phone = 44444\n",
      "enter addressdharan\n",
      "Enter name = shyam\n",
      "Enter phone = 555555\n",
      "enter addressilam\n",
      "Enter name = gita\n",
      "Enter phone = 66666\n",
      "enter addresstaplajung\n",
      "alin,7777,damak\n",
      "hari,88888,morang\n",
      "ram,99999,sarlahai\n",
      "bharat,44444,dharan\n",
      "shyam,555555,ilam\n",
      "gita,66666,taplajung\n",
      "\n"
     ]
    }
   ],
   "source": [
    "s = str()                                      \n",
    "n = int(input(\"Enter n = \"))\n",
    "for i in range(n):\n",
    "    name = input(\"Enter name = \")\n",
    "    age = input(\"Enter phone = \")\n",
    "    address=input(\"enter address\")\n",
    "    s = s+f\"{name},{age},{address}\\n\"                    \n",
    "print(s)\n",
    "\n",
    "b=open('bio.csv','a')                \n",
    "b.write(s)\n",
    "b.close()"
   ]
  },
  {
   "cell_type": "code",
   "execution_count": 2,
   "id": "b1e14aba",
   "metadata": {},
   "outputs": [
    {
     "name": "stdout",
     "output_type": "stream",
     "text": [
      "Requirement already satisfied: pandas in c:\\programdata\\anaconda3\\lib\\site-packages (1.3.4)\n",
      "Requirement already satisfied: numpy>=1.17.3 in c:\\programdata\\anaconda3\\lib\\site-packages (from pandas) (1.20.3)\n",
      "Requirement already satisfied: pytz>=2017.3 in c:\\programdata\\anaconda3\\lib\\site-packages (from pandas) (2021.3)\n",
      "Requirement already satisfied: python-dateutil>=2.7.3 in c:\\programdata\\anaconda3\\lib\\site-packages (from pandas) (2.8.2)\n",
      "Requirement already satisfied: six>=1.5 in c:\\programdata\\anaconda3\\lib\\site-packages (from python-dateutil>=2.7.3->pandas) (1.16.0)\n"
     ]
    }
   ],
   "source": [
    "!pip install pandas\n",
    "\n",
    "#import panda pd"
   ]
  },
  {
   "cell_type": "code",
   "execution_count": 3,
   "id": "bffcb8ac",
   "metadata": {},
   "outputs": [
    {
     "name": "stdout",
     "output_type": "stream",
     "text": [
      "Requirement already satisfied: pandas in c:\\programdata\\anaconda3\\lib\\site-packages (1.3.4)\n",
      "Requirement already satisfied: python-dateutil>=2.7.3 in c:\\programdata\\anaconda3\\lib\\site-packages (from pandas) (2.8.2)\n",
      "Requirement already satisfied: numpy>=1.17.3 in c:\\programdata\\anaconda3\\lib\\site-packages (from pandas) (1.20.3)\n",
      "Requirement already satisfied: pytz>=2017.3 in c:\\programdata\\anaconda3\\lib\\site-packages (from pandas) (2021.3)\n",
      "Requirement already satisfied: six>=1.5 in c:\\programdata\\anaconda3\\lib\\site-packages (from python-dateutil>=2.7.3->pandas) (1.16.0)\n"
     ]
    }
   ],
   "source": [
    "!pip install pandas"
   ]
  },
  {
   "cell_type": "code",
   "execution_count": 1,
   "id": "ed6fd18c",
   "metadata": {},
   "outputs": [
    {
     "data": {
      "text/html": [
       "<div>\n",
       "<style scoped>\n",
       "    .dataframe tbody tr th:only-of-type {\n",
       "        vertical-align: middle;\n",
       "    }\n",
       "\n",
       "    .dataframe tbody tr th {\n",
       "        vertical-align: top;\n",
       "    }\n",
       "\n",
       "    .dataframe thead th {\n",
       "        text-align: right;\n",
       "    }\n",
       "</style>\n",
       "<table border=\"1\" class=\"dataframe\">\n",
       "  <thead>\n",
       "    <tr style=\"text-align: right;\">\n",
       "      <th></th>\n",
       "      <th>Name</th>\n",
       "      <th>phone</th>\n",
       "      <th>address</th>\n",
       "    </tr>\n",
       "  </thead>\n",
       "  <tbody>\n",
       "    <tr>\n",
       "      <th>0</th>\n",
       "      <td>alin</td>\n",
       "      <td>7777</td>\n",
       "      <td>damak</td>\n",
       "    </tr>\n",
       "    <tr>\n",
       "      <th>1</th>\n",
       "      <td>hari</td>\n",
       "      <td>88888</td>\n",
       "      <td>morang</td>\n",
       "    </tr>\n",
       "    <tr>\n",
       "      <th>2</th>\n",
       "      <td>ram</td>\n",
       "      <td>99999</td>\n",
       "      <td>sarlahai</td>\n",
       "    </tr>\n",
       "    <tr>\n",
       "      <th>3</th>\n",
       "      <td>bharat</td>\n",
       "      <td>44444</td>\n",
       "      <td>dharan</td>\n",
       "    </tr>\n",
       "    <tr>\n",
       "      <th>4</th>\n",
       "      <td>shyam</td>\n",
       "      <td>555555</td>\n",
       "      <td>ilam</td>\n",
       "    </tr>\n",
       "    <tr>\n",
       "      <th>5</th>\n",
       "      <td>gita</td>\n",
       "      <td>66666</td>\n",
       "      <td>taplajung</td>\n",
       "    </tr>\n",
       "  </tbody>\n",
       "</table>\n",
       "</div>"
      ],
      "text/plain": [
       "     Name   phone    address\n",
       "0    alin    7777      damak\n",
       "1    hari   88888     morang\n",
       "2     ram   99999   sarlahai\n",
       "3  bharat   44444     dharan\n",
       "4   shyam  555555       ilam\n",
       "5    gita   66666  taplajung"
      ]
     },
     "execution_count": 1,
     "metadata": {},
     "output_type": "execute_result"
    }
   ],
   "source": [
    "import pandas as pd                             #to add data using panda before this process we have to add data using note pad\n",
    "                                                #after adding data save and run this process\n",
    "df=pd.read_csv('bio.csv')\n",
    "df"
   ]
  },
  {
   "cell_type": "code",
   "execution_count": 2,
   "id": "5ac8c54d",
   "metadata": {},
   "outputs": [
    {
     "data": {
      "text/html": [
       "<div>\n",
       "<style scoped>\n",
       "    .dataframe tbody tr th:only-of-type {\n",
       "        vertical-align: middle;\n",
       "    }\n",
       "\n",
       "    .dataframe tbody tr th {\n",
       "        vertical-align: top;\n",
       "    }\n",
       "\n",
       "    .dataframe thead th {\n",
       "        text-align: right;\n",
       "    }\n",
       "</style>\n",
       "<table border=\"1\" class=\"dataframe\">\n",
       "  <thead>\n",
       "    <tr style=\"text-align: right;\">\n",
       "      <th></th>\n",
       "      <th>S.N</th>\n",
       "      <th>Name</th>\n",
       "      <th>phone</th>\n",
       "      <th>address</th>\n",
       "    </tr>\n",
       "  </thead>\n",
       "  <tbody>\n",
       "    <tr>\n",
       "      <th>0</th>\n",
       "      <td>1</td>\n",
       "      <td>alin</td>\n",
       "      <td>7777</td>\n",
       "      <td>damak</td>\n",
       "    </tr>\n",
       "    <tr>\n",
       "      <th>1</th>\n",
       "      <td>2</td>\n",
       "      <td>hari</td>\n",
       "      <td>88888</td>\n",
       "      <td>morang</td>\n",
       "    </tr>\n",
       "    <tr>\n",
       "      <th>2</th>\n",
       "      <td>3</td>\n",
       "      <td>ram</td>\n",
       "      <td>99999</td>\n",
       "      <td>sarlahai</td>\n",
       "    </tr>\n",
       "    <tr>\n",
       "      <th>3</th>\n",
       "      <td>4</td>\n",
       "      <td>bharat</td>\n",
       "      <td>44444</td>\n",
       "      <td>dharan</td>\n",
       "    </tr>\n",
       "    <tr>\n",
       "      <th>4</th>\n",
       "      <td>5</td>\n",
       "      <td>shyam</td>\n",
       "      <td>555555</td>\n",
       "      <td>ilam</td>\n",
       "    </tr>\n",
       "    <tr>\n",
       "      <th>5</th>\n",
       "      <td>6</td>\n",
       "      <td>gita</td>\n",
       "      <td>66666</td>\n",
       "      <td>taplajung</td>\n",
       "    </tr>\n",
       "  </tbody>\n",
       "</table>\n",
       "</div>"
      ],
      "text/plain": [
       "   S.N    Name   phone    address\n",
       "0    1    alin    7777      damak\n",
       "1    2    hari   88888     morang\n",
       "2    3     ram   99999   sarlahai\n",
       "3    4  bharat   44444     dharan\n",
       "4    5   shyam  555555       ilam\n",
       "5    6    gita   66666  taplajung"
      ]
     },
     "execution_count": 2,
     "metadata": {},
     "output_type": "execute_result"
    }
   ],
   "source": [
    "import pandas as pd                             #to add data using panda before this process we have to add data using note pad\n",
    "                                                #after adding data save and run this process\n",
    "df=pd.read_csv('bio.csv')\n",
    "df"
   ]
  },
  {
   "cell_type": "code",
   "execution_count": 3,
   "id": "e1919131",
   "metadata": {},
   "outputs": [
    {
     "data": {
      "text/html": [
       "<div>\n",
       "<style scoped>\n",
       "    .dataframe tbody tr th:only-of-type {\n",
       "        vertical-align: middle;\n",
       "    }\n",
       "\n",
       "    .dataframe tbody tr th {\n",
       "        vertical-align: top;\n",
       "    }\n",
       "\n",
       "    .dataframe thead th {\n",
       "        text-align: right;\n",
       "    }\n",
       "</style>\n",
       "<table border=\"1\" class=\"dataframe\">\n",
       "  <thead>\n",
       "    <tr style=\"text-align: right;\">\n",
       "      <th></th>\n",
       "      <th>S.N</th>\n",
       "      <th>Name</th>\n",
       "      <th>phone</th>\n",
       "      <th>address</th>\n",
       "    </tr>\n",
       "  </thead>\n",
       "  <tbody>\n",
       "    <tr>\n",
       "      <th>0</th>\n",
       "      <td>1</td>\n",
       "      <td>alin</td>\n",
       "      <td>7777</td>\n",
       "      <td>damak</td>\n",
       "    </tr>\n",
       "    <tr>\n",
       "      <th>1</th>\n",
       "      <td>2</td>\n",
       "      <td>hari</td>\n",
       "      <td>88888</td>\n",
       "      <td>morang</td>\n",
       "    </tr>\n",
       "    <tr>\n",
       "      <th>2</th>\n",
       "      <td>3</td>\n",
       "      <td>ram</td>\n",
       "      <td>99999</td>\n",
       "      <td>sarlahai</td>\n",
       "    </tr>\n",
       "    <tr>\n",
       "      <th>3</th>\n",
       "      <td>4</td>\n",
       "      <td>bharat</td>\n",
       "      <td>44444</td>\n",
       "      <td>dharan</td>\n",
       "    </tr>\n",
       "    <tr>\n",
       "      <th>4</th>\n",
       "      <td>5</td>\n",
       "      <td>shyam</td>\n",
       "      <td>555555</td>\n",
       "      <td>ilam</td>\n",
       "    </tr>\n",
       "  </tbody>\n",
       "</table>\n",
       "</div>"
      ],
      "text/plain": [
       "   S.N    Name   phone   address\n",
       "0    1    alin    7777     damak\n",
       "1    2    hari   88888    morang\n",
       "2    3     ram   99999  sarlahai\n",
       "3    4  bharat   44444    dharan\n",
       "4    5   shyam  555555      ilam"
      ]
     },
     "execution_count": 3,
     "metadata": {},
     "output_type": "execute_result"
    }
   ],
   "source": [
    "import pandas as pd                             #to add data using panda before this process we have to add data using note pad\n",
    "                                                #after adding data save and run this process\n",
    "df=pd.read_csv('bio.csv',nrows=5)\n",
    "df"
   ]
  },
  {
   "cell_type": "code",
   "execution_count": 4,
   "id": "215f0292",
   "metadata": {},
   "outputs": [
    {
     "data": {
      "text/html": [
       "<div>\n",
       "<style scoped>\n",
       "    .dataframe tbody tr th:only-of-type {\n",
       "        vertical-align: middle;\n",
       "    }\n",
       "\n",
       "    .dataframe tbody tr th {\n",
       "        vertical-align: top;\n",
       "    }\n",
       "\n",
       "    .dataframe thead th {\n",
       "        text-align: right;\n",
       "    }\n",
       "</style>\n",
       "<table border=\"1\" class=\"dataframe\">\n",
       "  <thead>\n",
       "    <tr style=\"text-align: right;\">\n",
       "      <th></th>\n",
       "      <th>Name</th>\n",
       "      <th>phone</th>\n",
       "      <th>address</th>\n",
       "    </tr>\n",
       "    <tr>\n",
       "      <th>S.N</th>\n",
       "      <th></th>\n",
       "      <th></th>\n",
       "      <th></th>\n",
       "    </tr>\n",
       "  </thead>\n",
       "  <tbody>\n",
       "    <tr>\n",
       "      <th>1</th>\n",
       "      <td>alin</td>\n",
       "      <td>7777</td>\n",
       "      <td>damak</td>\n",
       "    </tr>\n",
       "    <tr>\n",
       "      <th>2</th>\n",
       "      <td>hari</td>\n",
       "      <td>88888</td>\n",
       "      <td>morang</td>\n",
       "    </tr>\n",
       "    <tr>\n",
       "      <th>3</th>\n",
       "      <td>ram</td>\n",
       "      <td>99999</td>\n",
       "      <td>sarlahai</td>\n",
       "    </tr>\n",
       "    <tr>\n",
       "      <th>4</th>\n",
       "      <td>bharat</td>\n",
       "      <td>44444</td>\n",
       "      <td>dharan</td>\n",
       "    </tr>\n",
       "    <tr>\n",
       "      <th>5</th>\n",
       "      <td>shyam</td>\n",
       "      <td>555555</td>\n",
       "      <td>ilam</td>\n",
       "    </tr>\n",
       "  </tbody>\n",
       "</table>\n",
       "</div>"
      ],
      "text/plain": [
       "       Name   phone   address\n",
       "S.N                          \n",
       "1      alin    7777     damak\n",
       "2      hari   88888    morang\n",
       "3       ram   99999  sarlahai\n",
       "4    bharat   44444    dharan\n",
       "5     shyam  555555      ilam"
      ]
     },
     "execution_count": 4,
     "metadata": {},
     "output_type": "execute_result"
    }
   ],
   "source": [
    "import pandas as pd                             #to add data using panda before this process we have to add data using note pad\n",
    "                                                #after adding data save and run this process\n",
    "df=pd.read_csv('bio.csv',nrows=5,index_col=\"S.N\")\n",
    "df"
   ]
  },
  {
   "cell_type": "code",
   "execution_count": 5,
   "id": "faaf6df1",
   "metadata": {},
   "outputs": [
    {
     "data": {
      "text/html": [
       "<div>\n",
       "<style scoped>\n",
       "    .dataframe tbody tr th:only-of-type {\n",
       "        vertical-align: middle;\n",
       "    }\n",
       "\n",
       "    .dataframe tbody tr th {\n",
       "        vertical-align: top;\n",
       "    }\n",
       "\n",
       "    .dataframe thead th {\n",
       "        text-align: right;\n",
       "    }\n",
       "</style>\n",
       "<table border=\"1\" class=\"dataframe\">\n",
       "  <thead>\n",
       "    <tr style=\"text-align: right;\">\n",
       "      <th></th>\n",
       "      <th>Name</th>\n",
       "      <th>phone</th>\n",
       "      <th>address</th>\n",
       "    </tr>\n",
       "    <tr>\n",
       "      <th>S.N</th>\n",
       "      <th></th>\n",
       "      <th></th>\n",
       "      <th></th>\n",
       "    </tr>\n",
       "  </thead>\n",
       "  <tbody>\n",
       "    <tr>\n",
       "      <th>1</th>\n",
       "      <td>alin</td>\n",
       "      <td>7777</td>\n",
       "      <td>damak</td>\n",
       "    </tr>\n",
       "    <tr>\n",
       "      <th>2</th>\n",
       "      <td>hari</td>\n",
       "      <td>88888</td>\n",
       "      <td>morang</td>\n",
       "    </tr>\n",
       "    <tr>\n",
       "      <th>3</th>\n",
       "      <td>ram</td>\n",
       "      <td>99999</td>\n",
       "      <td>sarlahai</td>\n",
       "    </tr>\n",
       "    <tr>\n",
       "      <th>4</th>\n",
       "      <td>bharat</td>\n",
       "      <td>44444</td>\n",
       "      <td>dharan</td>\n",
       "    </tr>\n",
       "    <tr>\n",
       "      <th>5</th>\n",
       "      <td>shyam</td>\n",
       "      <td>555555</td>\n",
       "      <td>ilam</td>\n",
       "    </tr>\n",
       "    <tr>\n",
       "      <th>6</th>\n",
       "      <td>gita</td>\n",
       "      <td>66666</td>\n",
       "      <td>taplajung</td>\n",
       "    </tr>\n",
       "  </tbody>\n",
       "</table>\n",
       "</div>"
      ],
      "text/plain": [
       "       Name   phone    address\n",
       "S.N                           \n",
       "1      alin    7777      damak\n",
       "2      hari   88888     morang\n",
       "3       ram   99999   sarlahai\n",
       "4    bharat   44444     dharan\n",
       "5     shyam  555555       ilam\n",
       "6      gita   66666  taplajung"
      ]
     },
     "execution_count": 5,
     "metadata": {},
     "output_type": "execute_result"
    }
   ],
   "source": [
    "import pandas as pd                             \n",
    "                                                \n",
    "df=pd.read_csv('bio.csv',nrows=6,index_col=\"S.N\")\n",
    "df"
   ]
  },
  {
   "cell_type": "code",
   "execution_count": 6,
   "id": "3683c69c",
   "metadata": {},
   "outputs": [
    {
     "data": {
      "text/html": [
       "<div>\n",
       "<style scoped>\n",
       "    .dataframe tbody tr th:only-of-type {\n",
       "        vertical-align: middle;\n",
       "    }\n",
       "\n",
       "    .dataframe tbody tr th {\n",
       "        vertical-align: top;\n",
       "    }\n",
       "\n",
       "    .dataframe thead th {\n",
       "        text-align: right;\n",
       "    }\n",
       "</style>\n",
       "<table border=\"1\" class=\"dataframe\">\n",
       "  <thead>\n",
       "    <tr style=\"text-align: right;\">\n",
       "      <th></th>\n",
       "      <th>Name</th>\n",
       "      <th>phone</th>\n",
       "      <th>address</th>\n",
       "    </tr>\n",
       "    <tr>\n",
       "      <th>S.N</th>\n",
       "      <th></th>\n",
       "      <th></th>\n",
       "      <th></th>\n",
       "    </tr>\n",
       "  </thead>\n",
       "  <tbody>\n",
       "    <tr>\n",
       "      <th>1</th>\n",
       "      <td>alin</td>\n",
       "      <td>7777</td>\n",
       "      <td>damak</td>\n",
       "    </tr>\n",
       "    <tr>\n",
       "      <th>2</th>\n",
       "      <td>hari</td>\n",
       "      <td>88888</td>\n",
       "      <td>morang</td>\n",
       "    </tr>\n",
       "    <tr>\n",
       "      <th>3</th>\n",
       "      <td>ram</td>\n",
       "      <td>99999</td>\n",
       "      <td>sarlahai</td>\n",
       "    </tr>\n",
       "    <tr>\n",
       "      <th>4</th>\n",
       "      <td>bharat</td>\n",
       "      <td>44444</td>\n",
       "      <td>dharan</td>\n",
       "    </tr>\n",
       "  </tbody>\n",
       "</table>\n",
       "</div>"
      ],
      "text/plain": [
       "       Name  phone   address\n",
       "S.N                         \n",
       "1      alin   7777     damak\n",
       "2      hari  88888    morang\n",
       "3       ram  99999  sarlahai\n",
       "4    bharat  44444    dharan"
      ]
     },
     "execution_count": 6,
     "metadata": {},
     "output_type": "execute_result"
    }
   ],
   "source": [
    "import pandas as pd                             \n",
    "                                                \n",
    "df=pd.read_csv('bio.csv',nrows=6,index_col=\"S.N\")\n",
    "df.head(4)"
   ]
  },
  {
   "cell_type": "code",
   "execution_count": 7,
   "id": "c6937a57",
   "metadata": {},
   "outputs": [
    {
     "data": {
      "text/html": [
       "<div>\n",
       "<style scoped>\n",
       "    .dataframe tbody tr th:only-of-type {\n",
       "        vertical-align: middle;\n",
       "    }\n",
       "\n",
       "    .dataframe tbody tr th {\n",
       "        vertical-align: top;\n",
       "    }\n",
       "\n",
       "    .dataframe thead th {\n",
       "        text-align: right;\n",
       "    }\n",
       "</style>\n",
       "<table border=\"1\" class=\"dataframe\">\n",
       "  <thead>\n",
       "    <tr style=\"text-align: right;\">\n",
       "      <th></th>\n",
       "      <th>Name</th>\n",
       "      <th>phone</th>\n",
       "      <th>address</th>\n",
       "    </tr>\n",
       "    <tr>\n",
       "      <th>S.N</th>\n",
       "      <th></th>\n",
       "      <th></th>\n",
       "      <th></th>\n",
       "    </tr>\n",
       "  </thead>\n",
       "  <tbody>\n",
       "    <tr>\n",
       "      <th>4</th>\n",
       "      <td>bharat</td>\n",
       "      <td>44444</td>\n",
       "      <td>dharan</td>\n",
       "    </tr>\n",
       "    <tr>\n",
       "      <th>5</th>\n",
       "      <td>shyam</td>\n",
       "      <td>555555</td>\n",
       "      <td>ilam</td>\n",
       "    </tr>\n",
       "    <tr>\n",
       "      <th>6</th>\n",
       "      <td>gita</td>\n",
       "      <td>66666</td>\n",
       "      <td>taplajung</td>\n",
       "    </tr>\n",
       "  </tbody>\n",
       "</table>\n",
       "</div>"
      ],
      "text/plain": [
       "       Name   phone    address\n",
       "S.N                           \n",
       "4    bharat   44444     dharan\n",
       "5     shyam  555555       ilam\n",
       "6      gita   66666  taplajung"
      ]
     },
     "execution_count": 7,
     "metadata": {},
     "output_type": "execute_result"
    }
   ],
   "source": [
    "import pandas as pd                             \n",
    "                                                \n",
    "df=pd.read_csv('bio.csv',nrows=6,index_col=\"S.N\")\n",
    "df.tail(3)"
   ]
  },
  {
   "cell_type": "code",
   "execution_count": 17,
   "id": "1abfff61",
   "metadata": {},
   "outputs": [
    {
     "data": {
      "text/html": [
       "<div>\n",
       "<style scoped>\n",
       "    .dataframe tbody tr th:only-of-type {\n",
       "        vertical-align: middle;\n",
       "    }\n",
       "\n",
       "    .dataframe tbody tr th {\n",
       "        vertical-align: top;\n",
       "    }\n",
       "\n",
       "    .dataframe thead th {\n",
       "        text-align: right;\n",
       "    }\n",
       "</style>\n",
       "<table border=\"1\" class=\"dataframe\">\n",
       "  <thead>\n",
       "    <tr style=\"text-align: right;\">\n",
       "      <th></th>\n",
       "      <th>Name</th>\n",
       "      <th>phone</th>\n",
       "      <th>address</th>\n",
       "    </tr>\n",
       "    <tr>\n",
       "      <th>S.N</th>\n",
       "      <th></th>\n",
       "      <th></th>\n",
       "      <th></th>\n",
       "    </tr>\n",
       "  </thead>\n",
       "  <tbody>\n",
       "    <tr>\n",
       "      <th>1</th>\n",
       "      <td>alin</td>\n",
       "      <td>7777</td>\n",
       "      <td>damak</td>\n",
       "    </tr>\n",
       "    <tr>\n",
       "      <th>2</th>\n",
       "      <td>hari</td>\n",
       "      <td>88888</td>\n",
       "      <td>morang</td>\n",
       "    </tr>\n",
       "    <tr>\n",
       "      <th>3</th>\n",
       "      <td>ram</td>\n",
       "      <td>99999</td>\n",
       "      <td>sarlahai</td>\n",
       "    </tr>\n",
       "    <tr>\n",
       "      <th>4</th>\n",
       "      <td>bharat</td>\n",
       "      <td>44444</td>\n",
       "      <td>dharan</td>\n",
       "    </tr>\n",
       "    <tr>\n",
       "      <th>5</th>\n",
       "      <td>shyam</td>\n",
       "      <td>555555</td>\n",
       "      <td>ilam</td>\n",
       "    </tr>\n",
       "  </tbody>\n",
       "</table>\n",
       "</div>"
      ],
      "text/plain": [
       "       Name   phone   address\n",
       "S.N                          \n",
       "1      alin    7777     damak\n",
       "2      hari   88888    morang\n",
       "3       ram   99999  sarlahai\n",
       "4    bharat   44444    dharan\n",
       "5     shyam  555555      ilam"
      ]
     },
     "execution_count": 17,
     "metadata": {},
     "output_type": "execute_result"
    }
   ],
   "source": [
    "import pandas as pd                             \n",
    "                                                \n",
    "df=pd.read_csv('bio.csv',nrows=6,index_col=\"S.N\")\n",
    "df.head(5)"
   ]
  },
  {
   "cell_type": "code",
   "execution_count": 18,
   "id": "957f74ff",
   "metadata": {},
   "outputs": [
    {
     "data": {
      "text/html": [
       "<div>\n",
       "<style scoped>\n",
       "    .dataframe tbody tr th:only-of-type {\n",
       "        vertical-align: middle;\n",
       "    }\n",
       "\n",
       "    .dataframe tbody tr th {\n",
       "        vertical-align: top;\n",
       "    }\n",
       "\n",
       "    .dataframe thead th {\n",
       "        text-align: right;\n",
       "    }\n",
       "</style>\n",
       "<table border=\"1\" class=\"dataframe\">\n",
       "  <thead>\n",
       "    <tr style=\"text-align: right;\">\n",
       "      <th></th>\n",
       "      <th>S.N</th>\n",
       "      <th>address</th>\n",
       "    </tr>\n",
       "    <tr>\n",
       "      <th>Name</th>\n",
       "      <th></th>\n",
       "      <th></th>\n",
       "    </tr>\n",
       "  </thead>\n",
       "  <tbody>\n",
       "  </tbody>\n",
       "</table>\n",
       "</div>"
      ],
      "text/plain": [
       "Empty DataFrame\n",
       "Columns: [S.N, address]\n",
       "Index: []"
      ]
     },
     "execution_count": 18,
     "metadata": {},
     "output_type": "execute_result"
    }
   ],
   "source": [
    "import pandas as pd                             \n",
    "                                                \n",
    "df=pd.read_csv('bio.csv',nrows=6,index_col=\"Name\",usecols=['S.N','Name','address'])\n",
    "df.iloc[5:2]"
   ]
  },
  {
   "cell_type": "code",
   "execution_count": 11,
   "id": "913770c5",
   "metadata": {},
   "outputs": [
    {
     "data": {
      "text/html": [
       "<div>\n",
       "<style scoped>\n",
       "    .dataframe tbody tr th:only-of-type {\n",
       "        vertical-align: middle;\n",
       "    }\n",
       "\n",
       "    .dataframe tbody tr th {\n",
       "        vertical-align: top;\n",
       "    }\n",
       "\n",
       "    .dataframe thead th {\n",
       "        text-align: right;\n",
       "    }\n",
       "</style>\n",
       "<table border=\"1\" class=\"dataframe\">\n",
       "  <thead>\n",
       "    <tr style=\"text-align: right;\">\n",
       "      <th></th>\n",
       "      <th>Name</th>\n",
       "      <th>address</th>\n",
       "    </tr>\n",
       "    <tr>\n",
       "      <th>S.N</th>\n",
       "      <th></th>\n",
       "      <th></th>\n",
       "    </tr>\n",
       "  </thead>\n",
       "  <tbody>\n",
       "    <tr>\n",
       "      <th>1</th>\n",
       "      <td>alin</td>\n",
       "      <td>damak</td>\n",
       "    </tr>\n",
       "    <tr>\n",
       "      <th>2</th>\n",
       "      <td>hari</td>\n",
       "      <td>morang</td>\n",
       "    </tr>\n",
       "    <tr>\n",
       "      <th>3</th>\n",
       "      <td>ram</td>\n",
       "      <td>sarlahai</td>\n",
       "    </tr>\n",
       "  </tbody>\n",
       "</table>\n",
       "</div>"
      ],
      "text/plain": [
       "     Name   address\n",
       "S.N                \n",
       "1    alin     damak\n",
       "2    hari    morang\n",
       "3     ram  sarlahai"
      ]
     },
     "execution_count": 11,
     "metadata": {},
     "output_type": "execute_result"
    }
   ],
   "source": [
    "import pandas as pd                             \n",
    "                                                \n",
    "df=pd.read_csv('bio.csv',nrows=6,index_col=\"S.N\",usecols=['S.N','Name','address'])\n",
    "df.head(3)"
   ]
  },
  {
   "cell_type": "code",
   "execution_count": 16,
   "id": "25d7ae60",
   "metadata": {},
   "outputs": [
    {
     "data": {
      "text/html": [
       "<div>\n",
       "<style scoped>\n",
       "    .dataframe tbody tr th:only-of-type {\n",
       "        vertical-align: middle;\n",
       "    }\n",
       "\n",
       "    .dataframe tbody tr th {\n",
       "        vertical-align: top;\n",
       "    }\n",
       "\n",
       "    .dataframe thead th {\n",
       "        text-align: right;\n",
       "    }\n",
       "</style>\n",
       "<table border=\"1\" class=\"dataframe\">\n",
       "  <thead>\n",
       "    <tr style=\"text-align: right;\">\n",
       "      <th></th>\n",
       "      <th>Name</th>\n",
       "      <th>address</th>\n",
       "    </tr>\n",
       "    <tr>\n",
       "      <th>S.N</th>\n",
       "      <th></th>\n",
       "      <th></th>\n",
       "    </tr>\n",
       "  </thead>\n",
       "  <tbody>\n",
       "    <tr>\n",
       "      <th>3</th>\n",
       "      <td>ram</td>\n",
       "      <td>sarlahai</td>\n",
       "    </tr>\n",
       "    <tr>\n",
       "      <th>4</th>\n",
       "      <td>bharat</td>\n",
       "      <td>dharan</td>\n",
       "    </tr>\n",
       "  </tbody>\n",
       "</table>\n",
       "</div>"
      ],
      "text/plain": [
       "       Name   address\n",
       "S.N                  \n",
       "3       ram  sarlahai\n",
       "4    bharat    dharan"
      ]
     },
     "execution_count": 16,
     "metadata": {},
     "output_type": "execute_result"
    }
   ],
   "source": [
    "import pandas as pd                             \n",
    "                                                \n",
    "df=pd.read_csv('bio.csv',nrows=6,index_col=\"S.N\",usecols=['S.N','Name','address'])\n",
    "df.iloc[2:4]"
   ]
  },
  {
   "cell_type": "code",
   "execution_count": 14,
   "id": "b5cc0c4c",
   "metadata": {},
   "outputs": [
    {
     "data": {
      "text/html": [
       "<div>\n",
       "<style scoped>\n",
       "    .dataframe tbody tr th:only-of-type {\n",
       "        vertical-align: middle;\n",
       "    }\n",
       "\n",
       "    .dataframe tbody tr th {\n",
       "        vertical-align: top;\n",
       "    }\n",
       "\n",
       "    .dataframe thead th {\n",
       "        text-align: right;\n",
       "    }\n",
       "</style>\n",
       "<table border=\"1\" class=\"dataframe\">\n",
       "  <thead>\n",
       "    <tr style=\"text-align: right;\">\n",
       "      <th></th>\n",
       "      <th>Name</th>\n",
       "      <th>address</th>\n",
       "    </tr>\n",
       "    <tr>\n",
       "      <th>S.N</th>\n",
       "      <th></th>\n",
       "      <th></th>\n",
       "    </tr>\n",
       "  </thead>\n",
       "  <tbody>\n",
       "    <tr>\n",
       "      <th>2</th>\n",
       "      <td>hari</td>\n",
       "      <td>morang</td>\n",
       "    </tr>\n",
       "    <tr>\n",
       "      <th>3</th>\n",
       "      <td>ram</td>\n",
       "      <td>sarlahai</td>\n",
       "    </tr>\n",
       "    <tr>\n",
       "      <th>4</th>\n",
       "      <td>bharat</td>\n",
       "      <td>dharan</td>\n",
       "    </tr>\n",
       "    <tr>\n",
       "      <th>5</th>\n",
       "      <td>shyam</td>\n",
       "      <td>ilam</td>\n",
       "    </tr>\n",
       "  </tbody>\n",
       "</table>\n",
       "</div>"
      ],
      "text/plain": [
       "       Name   address\n",
       "S.N                  \n",
       "2      hari    morang\n",
       "3       ram  sarlahai\n",
       "4    bharat    dharan\n",
       "5     shyam      ilam"
      ]
     },
     "execution_count": 14,
     "metadata": {},
     "output_type": "execute_result"
    }
   ],
   "source": [
    "import pandas as pd                             \n",
    "                                                \n",
    "df=pd.read_csv('bio.csv',nrows=6,index_col=\"Name\",usecols=['S.N','Name','address'])\n",
    "df.loc[2:5]"
   ]
  },
  {
   "cell_type": "code",
   "execution_count": 15,
   "id": "198a1297",
   "metadata": {},
   "outputs": [
    {
     "data": {
      "text/html": [
       "<div>\n",
       "<style scoped>\n",
       "    .dataframe tbody tr th:only-of-type {\n",
       "        vertical-align: middle;\n",
       "    }\n",
       "\n",
       "    .dataframe tbody tr th {\n",
       "        vertical-align: top;\n",
       "    }\n",
       "\n",
       "    .dataframe thead th {\n",
       "        text-align: right;\n",
       "    }\n",
       "</style>\n",
       "<table border=\"1\" class=\"dataframe\">\n",
       "  <thead>\n",
       "    <tr style=\"text-align: right;\">\n",
       "      <th></th>\n",
       "      <th>S.N</th>\n",
       "      <th>phone</th>\n",
       "      <th>address</th>\n",
       "    </tr>\n",
       "    <tr>\n",
       "      <th>Name</th>\n",
       "      <th></th>\n",
       "      <th></th>\n",
       "      <th></th>\n",
       "    </tr>\n",
       "  </thead>\n",
       "  <tbody>\n",
       "    <tr>\n",
       "      <th>ram</th>\n",
       "      <td>3</td>\n",
       "      <td>99999</td>\n",
       "      <td>sarlahai</td>\n",
       "    </tr>\n",
       "    <tr>\n",
       "      <th>bharat</th>\n",
       "      <td>4</td>\n",
       "      <td>44444</td>\n",
       "      <td>dharan</td>\n",
       "    </tr>\n",
       "    <tr>\n",
       "      <th>shyam</th>\n",
       "      <td>5</td>\n",
       "      <td>555555</td>\n",
       "      <td>ilam</td>\n",
       "    </tr>\n",
       "  </tbody>\n",
       "</table>\n",
       "</div>"
      ],
      "text/plain": [
       "        S.N   phone   address\n",
       "Name                         \n",
       "ram       3   99999  sarlahai\n",
       "bharat    4   44444    dharan\n",
       "shyam     5  555555      ilam"
      ]
     },
     "execution_count": 15,
     "metadata": {},
     "output_type": "execute_result"
    }
   ],
   "source": [
    "import pandas as pd                             \n",
    "                                                \n",
    "df=pd.read_csv('bio.csv',nrows=6,index_col=\"Name\")\n",
    "df.loc[\"ram\":\"shyam\"]"
   ]
  },
  {
   "cell_type": "code",
   "execution_count": 1,
   "id": "4a01d058",
   "metadata": {},
   "outputs": [
    {
     "data": {
      "text/html": [
       "<div>\n",
       "<style scoped>\n",
       "    .dataframe tbody tr th:only-of-type {\n",
       "        vertical-align: middle;\n",
       "    }\n",
       "\n",
       "    .dataframe tbody tr th {\n",
       "        vertical-align: top;\n",
       "    }\n",
       "\n",
       "    .dataframe thead th {\n",
       "        text-align: right;\n",
       "    }\n",
       "</style>\n",
       "<table border=\"1\" class=\"dataframe\">\n",
       "  <thead>\n",
       "    <tr style=\"text-align: right;\">\n",
       "      <th></th>\n",
       "      <th>Name</th>\n",
       "      <th>phone</th>\n",
       "      <th>address</th>\n",
       "    </tr>\n",
       "    <tr>\n",
       "      <th>S.N</th>\n",
       "      <th></th>\n",
       "      <th></th>\n",
       "      <th></th>\n",
       "    </tr>\n",
       "  </thead>\n",
       "  <tbody>\n",
       "    <tr>\n",
       "      <th>1</th>\n",
       "      <td>alin</td>\n",
       "      <td>7777</td>\n",
       "      <td>damak</td>\n",
       "    </tr>\n",
       "    <tr>\n",
       "      <th>2</th>\n",
       "      <td>hari</td>\n",
       "      <td>88888</td>\n",
       "      <td>morang</td>\n",
       "    </tr>\n",
       "    <tr>\n",
       "      <th>3</th>\n",
       "      <td>ram</td>\n",
       "      <td>99999</td>\n",
       "      <td>sarlahai</td>\n",
       "    </tr>\n",
       "    <tr>\n",
       "      <th>4</th>\n",
       "      <td>bharat</td>\n",
       "      <td>44444</td>\n",
       "      <td>dharan</td>\n",
       "    </tr>\n",
       "    <tr>\n",
       "      <th>5</th>\n",
       "      <td>shyam</td>\n",
       "      <td>555555</td>\n",
       "      <td>ilam</td>\n",
       "    </tr>\n",
       "    <tr>\n",
       "      <th>6</th>\n",
       "      <td>gita</td>\n",
       "      <td>66666</td>\n",
       "      <td>taplajung</td>\n",
       "    </tr>\n",
       "  </tbody>\n",
       "</table>\n",
       "</div>"
      ],
      "text/plain": [
       "       Name   phone    address\n",
       "S.N                           \n",
       "1      alin    7777      damak\n",
       "2      hari   88888     morang\n",
       "3       ram   99999   sarlahai\n",
       "4    bharat   44444     dharan\n",
       "5     shyam  555555       ilam\n",
       "6      gita   66666  taplajung"
      ]
     },
     "execution_count": 1,
     "metadata": {},
     "output_type": "execute_result"
    }
   ],
   "source": [
    "import pandas as pd                             \n",
    "                                                \n",
    "df=pd.read_csv('bio.csv',nrows=6,index_col=\"S.N\")\n",
    "df"
   ]
  },
  {
   "cell_type": "code",
   "execution_count": 3,
   "id": "ddf6cc49",
   "metadata": {},
   "outputs": [
    {
     "data": {
      "text/plain": [
       "S.N\n",
       "1        damak\n",
       "2       morang\n",
       "3     sarlahai\n",
       "4       dharan\n",
       "5         ilam\n",
       "6    taplajung\n",
       "Name: address, dtype: object"
      ]
     },
     "execution_count": 3,
     "metadata": {},
     "output_type": "execute_result"
    }
   ],
   "source": [
    "import pandas as pd                             \n",
    "                                                \n",
    "df=pd.read_csv('bio.csv',nrows=6,index_col=\"S.N\")\n",
    "df['address']"
   ]
  },
  {
   "cell_type": "code",
   "execution_count": 4,
   "id": "76321e2c",
   "metadata": {},
   "outputs": [
    {
     "data": {
      "text/html": [
       "<div>\n",
       "<style scoped>\n",
       "    .dataframe tbody tr th:only-of-type {\n",
       "        vertical-align: middle;\n",
       "    }\n",
       "\n",
       "    .dataframe tbody tr th {\n",
       "        vertical-align: top;\n",
       "    }\n",
       "\n",
       "    .dataframe thead th {\n",
       "        text-align: right;\n",
       "    }\n",
       "</style>\n",
       "<table border=\"1\" class=\"dataframe\">\n",
       "  <thead>\n",
       "    <tr style=\"text-align: right;\">\n",
       "      <th></th>\n",
       "      <th>Name</th>\n",
       "      <th>phone</th>\n",
       "      <th>address</th>\n",
       "    </tr>\n",
       "    <tr>\n",
       "      <th>S.N</th>\n",
       "      <th></th>\n",
       "      <th></th>\n",
       "      <th></th>\n",
       "    </tr>\n",
       "  </thead>\n",
       "  <tbody>\n",
       "    <tr>\n",
       "      <th>1</th>\n",
       "      <td>alin</td>\n",
       "      <td>7777</td>\n",
       "      <td>damak</td>\n",
       "    </tr>\n",
       "  </tbody>\n",
       "</table>\n",
       "</div>"
      ],
      "text/plain": [
       "     Name  phone address\n",
       "S.N                     \n",
       "1    alin   7777   damak"
      ]
     },
     "execution_count": 4,
     "metadata": {},
     "output_type": "execute_result"
    }
   ],
   "source": [
    "import pandas as pd                             \n",
    "                                                \n",
    "df=pd.read_csv('bio.csv',nrows=6,index_col=\"S.N\")\n",
    "df[df['address']==\"damak\"]"
   ]
  },
  {
   "cell_type": "code",
   "execution_count": 8,
   "id": "76da01a8",
   "metadata": {},
   "outputs": [
    {
     "ename": "NameError",
     "evalue": "name 'data' is not defined",
     "output_type": "error",
     "traceback": [
      "\u001b[1;31m---------------------------------------------------------------------------\u001b[0m",
      "\u001b[1;31mNameError\u001b[0m                                 Traceback (most recent call last)",
      "\u001b[1;32m~\\AppData\\Local\\Temp/ipykernel_4660/2261998781.py\u001b[0m in \u001b[0;36m<module>\u001b[1;34m\u001b[0m\n\u001b[0;32m      3\u001b[0m \u001b[0mdf\u001b[0m\u001b[1;33m=\u001b[0m\u001b[0mpd\u001b[0m\u001b[1;33m.\u001b[0m\u001b[0mread_csv\u001b[0m\u001b[1;33m(\u001b[0m\u001b[1;34m'bio.csv'\u001b[0m\u001b[1;33m,\u001b[0m\u001b[0mnrows\u001b[0m\u001b[1;33m=\u001b[0m\u001b[1;36m6\u001b[0m\u001b[1;33m,\u001b[0m\u001b[0mindex_col\u001b[0m\u001b[1;33m=\u001b[0m\u001b[1;34m\"S.N\"\u001b[0m\u001b[1;33m)\u001b[0m\u001b[1;33m\u001b[0m\u001b[1;33m\u001b[0m\u001b[0m\n\u001b[0;32m      4\u001b[0m \u001b[0mdf\u001b[0m\u001b[1;33m=\u001b[0m\u001b[0mdf\u001b[0m\u001b[1;33m[\u001b[0m\u001b[0mdf\u001b[0m\u001b[1;33m[\u001b[0m\u001b[1;34m'address'\u001b[0m\u001b[1;33m]\u001b[0m\u001b[1;33m==\u001b[0m\u001b[1;34m\"dharan\"\u001b[0m\u001b[1;33m]\u001b[0m\u001b[1;33m\u001b[0m\u001b[1;33m\u001b[0m\u001b[0m\n\u001b[1;32m----> 5\u001b[1;33m \u001b[0mdata\u001b[0m\u001b[1;33m.\u001b[0m\u001b[0mto_csv\u001b[0m\u001b[1;33m(\u001b[0m\u001b[1;34m'new_file.csv'\u001b[0m\u001b[1;33m)\u001b[0m\u001b[1;33m\u001b[0m\u001b[1;33m\u001b[0m\u001b[0m\n\u001b[0m",
      "\u001b[1;31mNameError\u001b[0m: name 'data' is not defined"
     ]
    }
   ],
   "source": [
    "import pandas as pd                             \n",
    "                                                \n",
    "df=pd.read_csv('bio.csv',nrows=6,index_col=\"S.N\")\n",
    "df=df[df['address']==\"dharan\"]\n",
    "data.to_csv('new_file.csv')\n"
   ]
  },
  {
   "cell_type": "code",
   "execution_count": 12,
   "id": "e753dd72",
   "metadata": {},
   "outputs": [
    {
     "ename": "SyntaxError",
     "evalue": "invalid syntax (Temp/ipykernel_4660/4246412228.py, line 4)",
     "output_type": "error",
     "traceback": [
      "\u001b[1;36m  File \u001b[1;32m\"C:\\Users\\ACER\\AppData\\Local\\Temp/ipykernel_4660/4246412228.py\"\u001b[1;36m, line \u001b[1;32m4\u001b[0m\n\u001b[1;33m    df.[df['phone']|(df['address']==ilam)]\u001b[0m\n\u001b[1;37m       ^\u001b[0m\n\u001b[1;31mSyntaxError\u001b[0m\u001b[1;31m:\u001b[0m invalid syntax\n"
     ]
    }
   ],
   "source": [
    "import pandas as pd                             \n",
    "                                                \n",
    "df=pd.read_csv('bio.csv',nrows=6,index_col=\"S.N\")\n",
    "df.[df['phone']|(df['address']==ilam)]"
   ]
  },
  {
   "cell_type": "code",
   "execution_count": 15,
   "id": "5ac0b11f",
   "metadata": {},
   "outputs": [
    {
     "ename": "AttributeError",
     "evalue": "module 'pandas' has no attribute 'dataframe'",
     "output_type": "error",
     "traceback": [
      "\u001b[1;31m---------------------------------------------------------------------------\u001b[0m",
      "\u001b[1;31mAttributeError\u001b[0m                            Traceback (most recent call last)",
      "\u001b[1;32m~\\AppData\\Local\\Temp/ipykernel_4660/679996797.py\u001b[0m in \u001b[0;36m<module>\u001b[1;34m\u001b[0m\n\u001b[0;32m      4\u001b[0m     'address':[\"kathmandu\",\"bhaktapur\",\"kirtipur\"]}\n\u001b[0;32m      5\u001b[0m \u001b[1;33m\u001b[0m\u001b[0m\n\u001b[1;32m----> 6\u001b[1;33m \u001b[0mdf\u001b[0m\u001b[1;33m=\u001b[0m\u001b[0mpd\u001b[0m\u001b[1;33m.\u001b[0m\u001b[0mdataframe\u001b[0m\u001b[1;33m(\u001b[0m\u001b[0mdata\u001b[0m\u001b[1;33m)\u001b[0m\u001b[1;33m\u001b[0m\u001b[1;33m\u001b[0m\u001b[0m\n\u001b[0m\u001b[0;32m      7\u001b[0m \u001b[0mdf\u001b[0m\u001b[1;33m.\u001b[0m\u001b[0mto_csv\u001b[0m\u001b[1;33m(\u001b[0m\u001b[1;34m'dataframe.csv'\u001b[0m\u001b[1;33m)\u001b[0m\u001b[1;33m\u001b[0m\u001b[1;33m\u001b[0m\u001b[0m\n\u001b[0;32m      8\u001b[0m \u001b[0mdf\u001b[0m\u001b[1;33m\u001b[0m\u001b[1;33m\u001b[0m\u001b[0m\n",
      "\u001b[1;32mC:\\ProgramData\\Anaconda3\\lib\\site-packages\\pandas\\__init__.py\u001b[0m in \u001b[0;36m__getattr__\u001b[1;34m(name)\u001b[0m\n\u001b[0;32m    242\u001b[0m         \u001b[1;32mreturn\u001b[0m \u001b[0m_SparseArray\u001b[0m\u001b[1;33m\u001b[0m\u001b[1;33m\u001b[0m\u001b[0m\n\u001b[0;32m    243\u001b[0m \u001b[1;33m\u001b[0m\u001b[0m\n\u001b[1;32m--> 244\u001b[1;33m     \u001b[1;32mraise\u001b[0m \u001b[0mAttributeError\u001b[0m\u001b[1;33m(\u001b[0m\u001b[1;34mf\"module 'pandas' has no attribute '{name}'\"\u001b[0m\u001b[1;33m)\u001b[0m\u001b[1;33m\u001b[0m\u001b[1;33m\u001b[0m\u001b[0m\n\u001b[0m\u001b[0;32m    245\u001b[0m \u001b[1;33m\u001b[0m\u001b[0m\n\u001b[0;32m    246\u001b[0m \u001b[1;33m\u001b[0m\u001b[0m\n",
      "\u001b[1;31mAttributeError\u001b[0m: module 'pandas' has no attribute 'dataframe'"
     ]
    }
   ],
   "source": [
    "import pandas as pd\n",
    "data={'sn':[1,2,3],\n",
    "    'name':[\"hari\",\"ram\",\"sita\"],\n",
    "    'address':[\"kathmandu\",\"bhaktapur\",\"kirtipur\"]}\n",
    "    \n",
    "df=pd.dataframe(data)\n",
    "df.to_csv('dataframe.csv')\n",
    "df"
   ]
  },
  {
   "cell_type": "code",
   "execution_count": 16,
   "id": "71750062",
   "metadata": {},
   "outputs": [
    {
     "ename": "NameError",
     "evalue": "name 'fields' is not defined",
     "output_type": "error",
     "traceback": [
      "\u001b[1;31m---------------------------------------------------------------------------\u001b[0m",
      "\u001b[1;31mNameError\u001b[0m                                 Traceback (most recent call last)",
      "\u001b[1;32m~\\AppData\\Local\\Temp/ipykernel_4660/1318732802.py\u001b[0m in \u001b[0;36m<module>\u001b[1;34m\u001b[0m\n\u001b[0;32m      3\u001b[0m \u001b[1;32mwith\u001b[0m \u001b[0mopen\u001b[0m\u001b[1;33m(\u001b[0m\u001b[1;34m'dataframe.csv'\u001b[0m\u001b[1;33m,\u001b[0m\u001b[1;34m'a'\u001b[0m\u001b[1;33m)\u001b[0m \u001b[1;32mas\u001b[0m \u001b[0mf\u001b[0m\u001b[1;33m:\u001b[0m\u001b[1;33m\u001b[0m\u001b[1;33m\u001b[0m\u001b[0m\n\u001b[0;32m      4\u001b[0m     \u001b[0mx\u001b[0m\u001b[1;33m=\u001b[0m\u001b[0mcsv\u001b[0m\u001b[1;33m.\u001b[0m\u001b[0mwriter\u001b[0m\u001b[1;33m(\u001b[0m\u001b[0mf\u001b[0m\u001b[1;33m)\u001b[0m\u001b[1;33m\u001b[0m\u001b[1;33m\u001b[0m\u001b[0m\n\u001b[1;32m----> 5\u001b[1;33m     \u001b[0mx\u001b[0m\u001b[1;33m.\u001b[0m\u001b[0mwriterow\u001b[0m\u001b[1;33m(\u001b[0m\u001b[0mfields\u001b[0m\u001b[1;33m)\u001b[0m\u001b[1;33m\u001b[0m\u001b[1;33m\u001b[0m\u001b[0m\n\u001b[0m",
      "\u001b[1;31mNameError\u001b[0m: name 'fields' is not defined"
     ]
    }
   ],
   "source": [
    "import csv\n",
    "fieldds=[4,\"alin\",\"jhapa\"]\n",
    "with open('dataframe.csv','a') as f:\n",
    "    x=csv.writer(f)\n",
    "    x.writerow(fields)\n"
   ]
  },
  {
   "cell_type": "code",
   "execution_count": 4,
   "id": "44ad09e1",
   "metadata": {},
   "outputs": [],
   "source": [
    "import csv\n",
    "data=[[\"sn\",\"name\",\"address\"],\n",
    "     [1,\"kamal\",\"baluwatar\"],\n",
    "     [2,\"sabin\",\"koteshwor\"],\n",
    "     [3,\"subash\",\"patan\"]]\n",
    "\n",
    "f= open('datas.csv','w')\n",
    "x= csv.writer(f)\n",
    "for i in data:\n",
    "    x.writerow(i)\n",
    "f.close()"
   ]
  },
  {
   "cell_type": "code",
   "execution_count": null,
   "id": "cc129e3f",
   "metadata": {},
   "outputs": [],
   "source": []
  }
 ],
 "metadata": {
  "kernelspec": {
   "display_name": "Python 3 (ipykernel)",
   "language": "python",
   "name": "python3"
  },
  "language_info": {
   "codemirror_mode": {
    "name": "ipython",
    "version": 3
   },
   "file_extension": ".py",
   "mimetype": "text/x-python",
   "name": "python",
   "nbconvert_exporter": "python",
   "pygments_lexer": "ipython3",
   "version": "3.9.7"
  }
 },
 "nbformat": 4,
 "nbformat_minor": 5
}
