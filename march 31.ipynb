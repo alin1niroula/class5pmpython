{
 "cells": [
  {
   "cell_type": "markdown",
   "id": "275fe304",
   "metadata": {},
   "source": [
    "# file"
   ]
  },
  {
   "cell_type": "code",
   "execution_count": 1,
   "id": "4098233b",
   "metadata": {},
   "outputs": [],
   "source": [
    "# b=open(<fille_name>,<mode>)\n",
    "# c.close()\n"
   ]
  },
  {
   "cell_type": "code",
   "execution_count": 2,
   "id": "a5e03d0a",
   "metadata": {},
   "outputs": [],
   "source": [
    "#with open(<file_name>,<mode>) as b:\n",
    "#      operations"
   ]
  },
  {
   "cell_type": "code",
   "execution_count": null,
   "id": "d1eb4d8e",
   "metadata": {},
   "outputs": [],
   "source": []
  },
  {
   "cell_type": "code",
   "execution_count": 3,
   "id": "87f4e566",
   "metadata": {},
   "outputs": [],
   "source": [
    "b=open('data.text','x')       #procidure to open new .text file\n",
    "b.close()                      #after run this operation you can see your file in your jupiter notebook first page"
   ]
  },
  {
   "cell_type": "code",
   "execution_count": 4,
   "id": "7f9aeb8a",
   "metadata": {},
   "outputs": [
    {
     "ename": "FileExistsError",
     "evalue": "[Errno 17] File exists: 'data.text'",
     "output_type": "error",
     "traceback": [
      "\u001b[1;31m---------------------------------------------------------------------------\u001b[0m",
      "\u001b[1;31mFileExistsError\u001b[0m                           Traceback (most recent call last)",
      "\u001b[1;32m~\\AppData\\Local\\Temp/ipykernel_6040/4059697436.py\u001b[0m in \u001b[0;36m<module>\u001b[1;34m\u001b[0m\n\u001b[1;32m----> 1\u001b[1;33m \u001b[0mb\u001b[0m\u001b[1;33m=\u001b[0m\u001b[0mopen\u001b[0m\u001b[1;33m(\u001b[0m\u001b[1;34m'data.text'\u001b[0m\u001b[1;33m,\u001b[0m\u001b[1;34m'x'\u001b[0m\u001b[1;33m)\u001b[0m\u001b[1;33m\u001b[0m\u001b[1;33m\u001b[0m\u001b[0m\n\u001b[0m\u001b[0;32m      2\u001b[0m \u001b[0mb\u001b[0m\u001b[1;33m.\u001b[0m\u001b[0mclose\u001b[0m\u001b[1;33m(\u001b[0m\u001b[1;33m)\u001b[0m\u001b[1;33m\u001b[0m\u001b[1;33m\u001b[0m\u001b[0m\n",
      "\u001b[1;31mFileExistsError\u001b[0m: [Errno 17] File exists: 'data.text'"
     ]
    }
   ],
   "source": [
    "b=open('data.text','x')          #when we try to creat same file than its shows us already exists and we can see this interface \n",
    "b.close()"
   ]
  },
  {
   "cell_type": "code",
   "execution_count": 6,
   "id": "0bb3dff8",
   "metadata": {},
   "outputs": [
    {
     "name": "stdout",
     "output_type": "stream",
     "text": [
      "this file already exist\n"
     ]
    }
   ],
   "source": [
    "try:\n",
    "    b=open('data,text','x')           #if we follow this process than it will show if that file exists or not\n",
    "    \n",
    "    b.close()\n",
    "except:\n",
    "    print(\"this file already exist\")"
   ]
  },
  {
   "cell_type": "code",
   "execution_count": 8,
   "id": "2b182b49",
   "metadata": {},
   "outputs": [
    {
     "name": "stdout",
     "output_type": "stream",
     "text": [
      "1.hello world\n",
      "2.hello world\n",
      "3.hello world\n",
      "4.hello world\n",
      "5.hello world\n"
     ]
    }
   ],
   "source": [
    "b=open('data.text','r')       #'r' refers to read, what we submit already on previous text file\n",
    "print(b.read())\n",
    "b.close()"
   ]
  },
  {
   "cell_type": "code",
   "execution_count": 10,
   "id": "f7bf2ba9",
   "metadata": {},
   "outputs": [
    {
     "name": "stdout",
     "output_type": "stream",
     "text": [
      "<class 'str'>\n"
     ]
    }
   ],
   "source": [
    "b=open('data.text','r')               #this method shows us types of python collection\n",
    "x=b.read()\n",
    "print(type(x))\n",
    "b.close()"
   ]
  },
  {
   "cell_type": "code",
   "execution_count": 11,
   "id": "a8724df6",
   "metadata": {},
   "outputs": [
    {
     "name": "stdout",
     "output_type": "stream",
     "text": [
      "['1.hello world', '2.hello world', '3.hello world', '4.hello world', '5.hello world']\n",
      "<class 'str'>\n"
     ]
    }
   ],
   "source": [
    "b=open('data.text','r')                    #iam totally confuse about split\n",
    "x=b.read()\n",
    "print(x.split('\\n'))\n",
    "print(type(x))\n",
    "b.close()"
   ]
  },
  {
   "cell_type": "code",
   "execution_count": 1,
   "id": "27ae6a82",
   "metadata": {},
   "outputs": [
    {
     "name": "stdout",
     "output_type": "stream",
     "text": [
      "enter line_no = 2\n"
     ]
    }
   ],
   "source": [
    "line_no=int(input(\"enter line_no = \"))          #in this split section i am unable to understant \n",
    "x=[line_no-1]"
   ]
  },
  {
   "cell_type": "code",
   "execution_count": 2,
   "id": "4ec58f43",
   "metadata": {},
   "outputs": [
    {
     "name": "stdout",
     "output_type": "stream",
     "text": [
      "hello world\n",
      "hello world\n"
     ]
    },
    {
     "data": {
      "text/plain": [
       "['hello world', 'hello world']"
      ]
     },
     "execution_count": 2,
     "metadata": {},
     "output_type": "execute_result"
    }
   ],
   "source": [
    "a=\"hello world\\nhello world\"    #\\n can split two words or sentenses between two words/sentenses\n",
    "print(a)\n",
    "a.split('\\n')"
   ]
  },
  {
   "cell_type": "code",
   "execution_count": 3,
   "id": "be2a4991",
   "metadata": {},
   "outputs": [],
   "source": [
    "b=open('phone.txt','w')                #way to open txt file but when we use 'w' and run than that replace previous values\n",
    "b.write('ram--546549854655')\n",
    "b.close()"
   ]
  },
  {
   "cell_type": "code",
   "execution_count": 4,
   "id": "3b809af8",
   "metadata": {},
   "outputs": [],
   "source": [
    "b=open('phone.txt','a')                #way to open txt file and 'a' refers to extend adding values\n",
    "b.write('shyam--46578')\n",
    "b.close()"
   ]
  },
  {
   "cell_type": "code",
   "execution_count": 5,
   "id": "5b3c9431",
   "metadata": {},
   "outputs": [
    {
     "name": "stdout",
     "output_type": "stream",
     "text": [
      "Enter n = 2\n",
      "Enter name = bharat\n",
      "Enter phone = 4556881226\n",
      "Enter name = hari\n",
      "Enter phone = 46456468\n",
      "bharat--4556881226\n",
      "hari--46456468\n",
      "\n"
     ]
    }
   ],
   "source": [
    "s = str()                                      #to creat and write a new .txt file\n",
    "n = int(input(\"Enter n = \"))\n",
    "for i in range(n):\n",
    "    name = input(\"Enter name = \")\n",
    "    phone = input(\"Enter phone = \")\n",
    "    \n",
    "    s = s+name+\"--\"+phone+\"\\n\"\n",
    "print(s)\n",
    "\n",
    "b=open('phone.txt','w')                   #but when we use'w' command than it will remove previous data\n",
    "b.write(s)                                #which we enter previoulsy in the same file and creat new data\n",
    "b.close()"
   ]
  },
  {
   "cell_type": "code",
   "execution_count": 7,
   "id": "3b664a9f",
   "metadata": {},
   "outputs": [
    {
     "name": "stdout",
     "output_type": "stream",
     "text": [
      "Enter n = 2\n",
      "Enter name = nishan\n",
      "Enter phone = 4646454\n",
      "Enter name = kiran\n",
      "Enter phone = 645479\n",
      "nishan--4646454\n",
      "kiran--645479\n",
      "\n"
     ]
    }
   ],
   "source": [
    "s = str()                                       #to add data on the same .txt file\n",
    "n = int(input(\"Enter n = \"))\n",
    "for i in range(n):\n",
    "    name = input(\"Enter name = \")\n",
    "    phone = input(\"Enter phone = \")\n",
    "    \n",
    "    s = s+name+\"--\"+phone+\"\\n\"\n",
    "print(s)\n",
    "\n",
    "b=open('phone.txt','a')                \n",
    "b.write(s)\n",
    "b.close()"
   ]
  },
  {
   "cell_type": "code",
   "execution_count": 8,
   "id": "00a5a4c7",
   "metadata": {},
   "outputs": [
    {
     "name": "stdout",
     "output_type": "stream",
     "text": [
      "Enter n = 2\n",
      "Enter name = ram bahadur\n",
      "Enter phone = 78798899\n",
      "Enter name = shyam bahadur\n",
      "Enter phone = 6478797\n",
      "ram bahadur 78798899\n",
      "shyam bahadur 6478797\n",
      "\n"
     ]
    }
   ],
   "source": [
    "s = str()                                       #to add data on the same txt file\n",
    "n = int(input(\"Enter n = \"))\n",
    "for i in range(n):\n",
    "    name = input(\"Enter name = \")\n",
    "    phone = input(\"Enter phone = \")\n",
    "    \n",
    "    s = s+f\"{name} {phone}\\n\"                    #can be use this formula insted of s = s+name+\"--\"+phone+\"\\n\"\n",
    "print(s)\n",
    "\n",
    "b=open('phone.txt','a')                \n",
    "b.write(s)\n",
    "b.close()"
   ]
  },
  {
   "cell_type": "code",
   "execution_count": 4,
   "id": "2fa435fc",
   "metadata": {},
   "outputs": [
    {
     "name": "stdout",
     "output_type": "stream",
     "text": [
      "enter n = 2\n",
      "enter name = alin\n",
      "enter job = teacher\n",
      "enter age = 35\n",
      "enter name = bharat\n",
      "enter job = doctor\n",
      "enter age = 55\n",
      "alin teacher 35\n",
      "bharat doctor 55\n",
      "\n"
     ]
    },
    {
     "ename": "NameError",
     "evalue": "name 'a' is not defined",
     "output_type": "error",
     "traceback": [
      "\u001b[1;31m---------------------------------------------------------------------------\u001b[0m",
      "\u001b[1;31mNameError\u001b[0m                                 Traceback (most recent call last)",
      "\u001b[1;32m~\\AppData\\Local\\Temp/ipykernel_1248/3944669267.py\u001b[0m in \u001b[0;36m<module>\u001b[1;34m\u001b[0m\n\u001b[0;32m      9\u001b[0m \u001b[0mprint\u001b[0m\u001b[1;33m(\u001b[0m\u001b[0ms\u001b[0m\u001b[1;33m)\u001b[0m\u001b[1;33m\u001b[0m\u001b[1;33m\u001b[0m\u001b[0m\n\u001b[0;32m     10\u001b[0m \u001b[1;33m\u001b[0m\u001b[0m\n\u001b[1;32m---> 11\u001b[1;33m \u001b[0mb\u001b[0m\u001b[1;33m=\u001b[0m\u001b[0mopen\u001b[0m\u001b[1;33m(\u001b[0m\u001b[1;34m'bio.txt'\u001b[0m\u001b[1;33m,\u001b[0m\u001b[0ma\u001b[0m\u001b[1;33m)\u001b[0m\u001b[1;33m\u001b[0m\u001b[1;33m\u001b[0m\u001b[0m\n\u001b[0m\u001b[0;32m     12\u001b[0m \u001b[0mb\u001b[0m\u001b[1;33m.\u001b[0m\u001b[0mwrite\u001b[0m\u001b[1;33m(\u001b[0m\u001b[0ma\u001b[0m\u001b[1;33m)\u001b[0m\u001b[1;33m\u001b[0m\u001b[1;33m\u001b[0m\u001b[0m\n\u001b[0;32m     13\u001b[0m \u001b[0mb\u001b[0m\u001b[1;33m.\u001b[0m\u001b[0mclose\u001b[0m\u001b[1;33m(\u001b[0m\u001b[1;33m)\u001b[0m\u001b[1;33m\u001b[0m\u001b[1;33m\u001b[0m\u001b[0m\n",
      "\u001b[1;31mNameError\u001b[0m: name 'a' is not defined"
     ]
    }
   ],
   "source": [
    "s=str()\n",
    "n=int(input(\"enter n = \"))\n",
    "for i in range(n):\n",
    "    name=input(\"enter name = \")\n",
    "    job=input(\"enter job = \")\n",
    "    age=input(\"enter age = \")\n",
    "    \n",
    "    s=s+f\"{name} {job} {age}\\n\"\n",
    "print(s)\n",
    "\n",
    "b=open('bio.txt',a)\n",
    "b.write(a)\n",
    "b.close()"
   ]
  },
  {
   "cell_type": "code",
   "execution_count": null,
   "id": "3f085021",
   "metadata": {},
   "outputs": [],
   "source": []
  },
  {
   "cell_type": "code",
   "execution_count": null,
   "id": "b492c099",
   "metadata": {},
   "outputs": [],
   "source": []
  }
 ],
 "metadata": {
  "kernelspec": {
   "display_name": "Python 3 (ipykernel)",
   "language": "python",
   "name": "python3"
  },
  "language_info": {
   "codemirror_mode": {
    "name": "ipython",
    "version": 3
   },
   "file_extension": ".py",
   "mimetype": "text/x-python",
   "name": "python",
   "nbconvert_exporter": "python",
   "pygments_lexer": "ipython3",
   "version": "3.9.7"
  }
 },
 "nbformat": 4,
 "nbformat_minor": 5
}
