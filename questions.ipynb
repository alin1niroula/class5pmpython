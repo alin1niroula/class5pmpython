{
 "cells": [
  {
   "cell_type": "code",
   "execution_count": 4,
   "id": "520c4cec",
   "metadata": {},
   "outputs": [
    {
     "name": "stdout",
     "output_type": "stream",
     "text": [
      "20\n",
      "10 2\n"
     ]
    }
   ],
   "source": [
    "def cal():\n",
    "    global l,b\n",
    "    l=10\n",
    "    b=2\n",
    "    a=l*b\n",
    "    print(a)\n",
    "cal()\n",
    "print(l,b)"
   ]
  },
  {
   "cell_type": "code",
   "execution_count": 11,
   "id": "d12566bb",
   "metadata": {},
   "outputs": [
    {
     "name": "stdout",
     "output_type": "stream",
     "text": [
      "200\n",
      "10 2\n"
     ]
    }
   ],
   "source": [
    "def cal():\n",
    "    l=10\n",
    "    b=20\n",
    "    a=l*b\n",
    "    print(a)\n",
    "cal()\n",
    "print(l,b)"
   ]
  },
  {
   "cell_type": "code",
   "execution_count": 12,
   "id": "3ff63736",
   "metadata": {},
   "outputs": [
    {
     "name": "stdout",
     "output_type": "stream",
     "text": [
      "200\n"
     ]
    }
   ],
   "source": [
    "def cal():\n",
    "    l=10\n",
    "    b=20\n",
    "    a=l*b\n",
    "    print(a)\n",
    "cal()\n",
    "#print(l,b)"
   ]
  },
  {
   "cell_type": "code",
   "execution_count": null,
   "id": "61977942",
   "metadata": {},
   "outputs": [],
   "source": []
  }
 ],
 "metadata": {
  "kernelspec": {
   "display_name": "Python 3 (ipykernel)",
   "language": "python",
   "name": "python3"
  },
  "language_info": {
   "codemirror_mode": {
    "name": "ipython",
    "version": 3
   },
   "file_extension": ".py",
   "mimetype": "text/x-python",
   "name": "python",
   "nbconvert_exporter": "python",
   "pygments_lexer": "ipython3",
   "version": "3.9.7"
  }
 },
 "nbformat": 4,
 "nbformat_minor": 5
}
