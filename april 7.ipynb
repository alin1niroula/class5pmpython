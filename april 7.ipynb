{
 "cells": [
  {
   "cell_type": "markdown",
   "id": "561aad72",
   "metadata": {},
   "source": [
    "# oop = object orientated programme"
   ]
  },
  {
   "cell_type": "code",
   "execution_count": 1,
   "id": "36e04c0e",
   "metadata": {},
   "outputs": [
    {
     "name": "stdout",
     "output_type": "stream",
     "text": [
      "Hello World\n"
     ]
    }
   ],
   "source": [
    "class Hello:                                #CLASS\n",
    "    print(\"Hello World\")\n",
    "    \n",
    "obj = Hello()                               #OBJECT"
   ]
  },
  {
   "cell_type": "code",
   "execution_count": 2,
   "id": "371bb948",
   "metadata": {},
   "outputs": [],
   "source": [
    "#class <class_name>:\n",
    "#      <operations>\n",
    "\n",
    "#<obj>"
   ]
  },
  {
   "cell_type": "code",
   "execution_count": 3,
   "id": "95837175",
   "metadata": {},
   "outputs": [
    {
     "name": "stdout",
     "output_type": "stream",
     "text": [
      "Hello World\n"
     ]
    }
   ],
   "source": [
    "class Ecomm:\n",
    "    \n",
    "    def acc(self):\n",
    "        print(\"Hello World\")\n",
    "        \n",
    "obj = Ecomm()\n",
    "obj.acc()\n",
    "    "
   ]
  },
  {
   "cell_type": "code",
   "execution_count": 4,
   "id": "9143a9c7",
   "metadata": {},
   "outputs": [
    {
     "name": "stdout",
     "output_type": "stream",
     "text": [
      "Hello World\n"
     ]
    }
   ],
   "source": [
    "class Ecomm:\n",
    "    \n",
    "    @staticmethod\n",
    "    \n",
    "    def acc():\n",
    "        print(\"Hello World\")\n",
    "        \n",
    "obj = Ecomm()\n",
    "obj.acc()\n",
    "    "
   ]
  },
  {
   "cell_type": "code",
   "execution_count": 5,
   "id": "267db0ea",
   "metadata": {},
   "outputs": [
    {
     "name": "stdout",
     "output_type": "stream",
     "text": [
      "Hello World\n"
     ]
    }
   ],
   "source": [
    "class Ecomm:\n",
    "    \n",
    "    def acc(self,x):\n",
    "        print(x)\n",
    "        \n",
    "obj = Ecomm()\n",
    "obj.acc(\"Hello World\")\n",
    "    "
   ]
  },
  {
   "cell_type": "code",
   "execution_count": 6,
   "id": "fc3901be",
   "metadata": {},
   "outputs": [
    {
     "name": "stdout",
     "output_type": "stream",
     "text": [
      "48\n",
      "96\n"
     ]
    }
   ],
   "source": [
    "class cal:\n",
    "    def area(self):\n",
    "        l=12\n",
    "        b=4\n",
    "        a=l*b\n",
    "        print(a)\n",
    "        \n",
    "    def volume(self):\n",
    "        l=12\n",
    "        b=4\n",
    "        h=2\n",
    "        v=l*b*h\n",
    "        print(v)\n",
    "        \n",
    "obj = cal()\n",
    "obj.area()\n",
    "obj.volume()"
   ]
  },
  {
   "cell_type": "code",
   "execution_count": 7,
   "id": "c2ed2d09",
   "metadata": {},
   "outputs": [
    {
     "ename": "AttributeError",
     "evalue": "'Ecomm' object has no attribute 'acc'",
     "output_type": "error",
     "traceback": [
      "\u001b[1;31m---------------------------------------------------------------------------\u001b[0m",
      "\u001b[1;31mAttributeError\u001b[0m                            Traceback (most recent call last)",
      "\u001b[1;32m~\\AppData\\Local\\Temp/ipykernel_8624/4072789635.py\u001b[0m in \u001b[0;36m<module>\u001b[1;34m\u001b[0m\n\u001b[0;32m      5\u001b[0m \u001b[1;33m\u001b[0m\u001b[0m\n\u001b[0;32m      6\u001b[0m \u001b[0mobj\u001b[0m \u001b[1;33m=\u001b[0m \u001b[0mEcomm\u001b[0m\u001b[1;33m(\u001b[0m\u001b[1;33m)\u001b[0m\u001b[1;33m\u001b[0m\u001b[1;33m\u001b[0m\u001b[0m\n\u001b[1;32m----> 7\u001b[1;33m \u001b[0mobj\u001b[0m\u001b[1;33m.\u001b[0m\u001b[0macc\u001b[0m\u001b[1;33m(\u001b[0m\u001b[1;33m)\u001b[0m\u001b[1;33m\u001b[0m\u001b[1;33m\u001b[0m\u001b[0m\n\u001b[0m\u001b[0;32m      8\u001b[0m \u001b[1;33m\u001b[0m\u001b[0m\n",
      "\u001b[1;31mAttributeError\u001b[0m: 'Ecomm' object has no attribute 'acc'"
     ]
    }
   ],
   "source": [
    "class Ecomm:\n",
    "    \n",
    "    def __init__(self):                                #use __double underscore before and after init\n",
    "        print(\"Hello World\")\n",
    "        \n",
    "obj = Ecomm()\n",
    "obj.acc()\n",
    "    "
   ]
  },
  {
   "cell_type": "code",
   "execution_count": 8,
   "id": "382e0a92",
   "metadata": {},
   "outputs": [
    {
     "name": "stdout",
     "output_type": "stream",
     "text": [
      "50\n",
      "100\n"
     ]
    }
   ],
   "source": [
    "class cal:\n",
    "    def area(self,l,b):\n",
    "        \n",
    "        a=l*b\n",
    "        print(a)\n",
    "        \n",
    "    def volume(self,l,b,h):\n",
    "        \n",
    "        v=l*b*h\n",
    "        print(v)\n",
    "        \n",
    "obj = cal()\n",
    "obj.area(10,5)\n",
    "obj.volume(10,5,2)"
   ]
  },
  {
   "cell_type": "code",
   "execution_count": 11,
   "id": "ea0e643a",
   "metadata": {},
   "outputs": [
    {
     "name": "stdout",
     "output_type": "stream",
     "text": [
      "50\n",
      "100\n"
     ]
    }
   ],
   "source": [
    "class Cal:\n",
    "    def __init__(self,l,b,h):\n",
    "        self.l=l\n",
    "        self.b=b\n",
    "        self.h=h\n",
    "    \n",
    "    def area(self):\n",
    "        \n",
    "        a=self.l*self.b\n",
    "        print(a)\n",
    "        \n",
    "    def volume(self):\n",
    "    \n",
    "        v=self.l*self.b*self.h\n",
    "        print(v)\n",
    "        \n",
    "obj = Cal(10,5,2)\n",
    "obj.area()\n",
    "obj.volume()"
   ]
  },
  {
   "cell_type": "code",
   "execution_count": 2,
   "id": "ce6cecc8",
   "metadata": {},
   "outputs": [
    {
     "name": "stdout",
     "output_type": "stream",
     "text": [
      "enter name =ram\n",
      "enter age  = 44\n",
      "ram\n"
     ]
    }
   ],
   "source": [
    "# str method\n",
    "\n",
    "class info:\n",
    "    def __init__(self):\n",
    "        self.name=input(\"enter name =\")\n",
    "        self.age=int(input(\"enter age  = \"))\n",
    "        \n",
    "    def __str__(self):\n",
    "        return self.name\n",
    "    \n",
    "obj=info()\n",
    "print(obj)\n"
   ]
  },
  {
   "cell_type": "code",
   "execution_count": 7,
   "id": "c1281732",
   "metadata": {},
   "outputs": [
    {
     "name": "stdout",
     "output_type": "stream",
     "text": [
      "enter name =ram\n",
      "enter age  = 55\n",
      "ram\n",
      "<class '__main__.info'>\n",
      "ramsita\n"
     ]
    }
   ],
   "source": [
    "class info:\n",
    "    def __init__(self):\n",
    "        self.name=input(\"enter name =\")\n",
    "        self.age=int(input(\"enter age  = \"))\n",
    "        \n",
    "    def __str__(self):\n",
    "        return self.name\n",
    "    \n",
    "obj=info()\n",
    "print(obj)\n",
    "print(type(obj))\n",
    "print(str(obj)+\"sita\")\n"
   ]
  },
  {
   "cell_type": "code",
   "execution_count": null,
   "id": "a321dc47",
   "metadata": {},
   "outputs": [],
   "source": []
  }
 ],
 "metadata": {
  "kernelspec": {
   "display_name": "Python 3 (ipykernel)",
   "language": "python",
   "name": "python3"
  },
  "language_info": {
   "codemirror_mode": {
    "name": "ipython",
    "version": 3
   },
   "file_extension": ".py",
   "mimetype": "text/x-python",
   "name": "python",
   "nbconvert_exporter": "python",
   "pygments_lexer": "ipython3",
   "version": "3.9.7"
  }
 },
 "nbformat": 4,
 "nbformat_minor": 5
}
