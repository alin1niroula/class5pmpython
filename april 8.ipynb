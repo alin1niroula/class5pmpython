{
 "cells": [
  {
   "cell_type": "code",
   "execution_count": 1,
   "id": "ffb10ee5",
   "metadata": {},
   "outputs": [],
   "source": [
    "#inheritance\n",
    "\n",
    "class A:\n",
    "    pass\n",
    "\n",
    "class B(A):\n",
    "    pass\n",
    "\n",
    "obj=B()"
   ]
  },
  {
   "cell_type": "code",
   "execution_count": 3,
   "id": "c76f66c7",
   "metadata": {},
   "outputs": [
    {
     "name": "stdout",
     "output_type": "stream",
     "text": [
      "12\n"
     ]
    }
   ],
   "source": [
    "class A:\n",
    "    def __init__(self):\n",
    "        self.a =10\n",
    "        self.b=2\n",
    "        \n",
    "class B(A):\n",
    "    def add(self):\n",
    "        print(self.a+self.b)\n",
    "        \n",
    "obj=B()\n",
    "obj.add()"
   ]
  },
  {
   "cell_type": "code",
   "execution_count": 5,
   "id": "f32f98b2",
   "metadata": {},
   "outputs": [
    {
     "name": "stdout",
     "output_type": "stream",
     "text": [
      "200\n"
     ]
    }
   ],
   "source": [
    "class A:\n",
    "    def __init__(self):\n",
    "        self.l =10\n",
    "        self.b=2\n",
    "        \n",
    "class B(A):\n",
    "    def __init__(self):\n",
    "        self.h=10\n",
    "        A.__init__(self)\n",
    "        \n",
    "        \n",
    "    def add(self):\n",
    "        print(self.l*self.b*self.h)\n",
    "        \n",
    "obj=B()\n",
    "obj.add()"
   ]
  },
  {
   "cell_type": "code",
   "execution_count": 9,
   "id": "fe435208",
   "metadata": {},
   "outputs": [
    {
     "name": "stdout",
     "output_type": "stream",
     "text": [
      "this is class A\n",
      "this is class B\n",
      "this is class C\n"
     ]
    }
   ],
   "source": [
    "class A:\n",
    "    print(\"this is class A\")\n",
    "    \n",
    "class B(A):\n",
    "    print(\"this is class B\")\n",
    "    \n",
    "class C(B):\n",
    "    print(\"this is class C\")\n",
    "    \n",
    "obj = C()"
   ]
  },
  {
   "cell_type": "code",
   "execution_count": 11,
   "id": "b0c22995",
   "metadata": {},
   "outputs": [
    {
     "name": "stdout",
     "output_type": "stream",
     "text": [
      "ram 55 kathmandu\n"
     ]
    }
   ],
   "source": [
    "class A:\n",
    "    def __init__(self):\n",
    "        self.name= \"ram\"\n",
    "    \n",
    "    \n",
    "class B:\n",
    "    def __init__(self):\n",
    "        self.age= 55\n",
    "        \n",
    "    \n",
    "    \n",
    "class C(A,B):\n",
    "    def __init__(self):\n",
    "        self.loct= \"kathmandu\"\n",
    "        \n",
    "        A. __init__(self)\n",
    "        B. __init__(self)\n",
    "    def info(self):\n",
    "        print(self.name,self.age,self.loct)\n",
    "    \n",
    "obj = C()\n",
    "obj.info()"
   ]
  },
  {
   "cell_type": "code",
   "execution_count": 2,
   "id": "be0f75e2",
   "metadata": {},
   "outputs": [
    {
     "name": "stdout",
     "output_type": "stream",
     "text": [
      "ram 22 jhapa\n"
     ]
    }
   ],
   "source": [
    "class info:                               #public data\n",
    "    def __init__(self):\n",
    "        self.name = \"ram\"\n",
    "        self.age=22\n",
    "        self.add=\"jhapa\"\n",
    "        \n",
    "obj = info()\n",
    "print(obj.name,obj.age,obj.add)"
   ]
  },
  {
   "cell_type": "code",
   "execution_count": 4,
   "id": "115496ec",
   "metadata": {},
   "outputs": [
    {
     "name": "stdout",
     "output_type": "stream",
     "text": [
      "ram 22 jhapa\n"
     ]
    }
   ],
   "source": [
    "class info:                               #protected attribute\n",
    "    def __init__(self):\n",
    "        self._name = \"ram\"\n",
    "        self._age=22\n",
    "        self._add=\"jhapa\"\n",
    "        \n",
    "obj = info()\n",
    "print(obj._name,obj._age,obj._add)"
   ]
  },
  {
   "cell_type": "code",
   "execution_count": 5,
   "id": "d4900ea1",
   "metadata": {},
   "outputs": [
    {
     "ename": "AttributeError",
     "evalue": "'info' object has no attribute '__name'",
     "output_type": "error",
     "traceback": [
      "\u001b[1;31m---------------------------------------------------------------------------\u001b[0m",
      "\u001b[1;31mAttributeError\u001b[0m                            Traceback (most recent call last)",
      "\u001b[1;32m~\\AppData\\Local\\Temp/ipykernel_9472/2738092999.py\u001b[0m in \u001b[0;36m<module>\u001b[1;34m\u001b[0m\n\u001b[0;32m      8\u001b[0m \u001b[1;33m\u001b[0m\u001b[0m\n\u001b[0;32m      9\u001b[0m \u001b[0mobj\u001b[0m \u001b[1;33m=\u001b[0m \u001b[0minfo\u001b[0m\u001b[1;33m(\u001b[0m\u001b[1;33m)\u001b[0m\u001b[1;33m\u001b[0m\u001b[1;33m\u001b[0m\u001b[0m\n\u001b[1;32m---> 10\u001b[1;33m \u001b[0mprint\u001b[0m\u001b[1;33m(\u001b[0m\u001b[0mobj\u001b[0m\u001b[1;33m.\u001b[0m\u001b[0m__name\u001b[0m\u001b[1;33m,\u001b[0m\u001b[0mobj\u001b[0m\u001b[1;33m.\u001b[0m\u001b[0m__age\u001b[0m\u001b[1;33m,\u001b[0m\u001b[0mobj\u001b[0m\u001b[1;33m.\u001b[0m\u001b[0m__add\u001b[0m\u001b[1;33m)\u001b[0m\u001b[1;33m\u001b[0m\u001b[1;33m\u001b[0m\u001b[0m\n\u001b[0m",
      "\u001b[1;31mAttributeError\u001b[0m: 'info' object has no attribute '__name'"
     ]
    }
   ],
   "source": [
    "#private attribute\n",
    "\n",
    "class info:                               \n",
    "    def __init__(self):\n",
    "        self.__name = \"ram\"\n",
    "        self.__age=22\n",
    "        self.__add=\"jhapa\"\n",
    "        \n",
    "obj = info()\n",
    "print(obj.__name,obj.__age,obj.__add)"
   ]
  },
  {
   "cell_type": "code",
   "execution_count": 7,
   "id": "55f1df2f",
   "metadata": {},
   "outputs": [
    {
     "ename": "NameError",
     "evalue": "name 'obj_info__' is not defined",
     "output_type": "error",
     "traceback": [
      "\u001b[1;31m---------------------------------------------------------------------------\u001b[0m",
      "\u001b[1;31mNameError\u001b[0m                                 Traceback (most recent call last)",
      "\u001b[1;32m~\\AppData\\Local\\Temp/ipykernel_9472/515574365.py\u001b[0m in \u001b[0;36m<module>\u001b[1;34m\u001b[0m\n\u001b[0;32m      6\u001b[0m \u001b[1;33m\u001b[0m\u001b[0m\n\u001b[0;32m      7\u001b[0m \u001b[0mobj\u001b[0m \u001b[1;33m=\u001b[0m \u001b[0minfo\u001b[0m\u001b[1;33m(\u001b[0m\u001b[1;33m)\u001b[0m\u001b[1;33m\u001b[0m\u001b[1;33m\u001b[0m\u001b[0m\n\u001b[1;32m----> 8\u001b[1;33m \u001b[0mprint\u001b[0m\u001b[1;33m(\u001b[0m\u001b[0mobj_info__\u001b[0m\u001b[1;33m.\u001b[0m\u001b[0mname\u001b[0m\u001b[1;33m,\u001b[0m\u001b[0mobj_info__\u001b[0m\u001b[1;33m.\u001b[0m\u001b[0mage\u001b[0m\u001b[1;33m,\u001b[0m\u001b[0mobj_info__\u001b[0m\u001b[1;33m.\u001b[0m\u001b[0madd\u001b[0m\u001b[1;33m)\u001b[0m\u001b[1;33m\u001b[0m\u001b[1;33m\u001b[0m\u001b[0m\n\u001b[0m",
      "\u001b[1;31mNameError\u001b[0m: name 'obj_info__' is not defined"
     ]
    }
   ],
   "source": [
    "class info:                               \n",
    "    def __init__(self):\n",
    "        self.__name = \"ram\"\n",
    "        self.__age=22\n",
    "        self.__add=\"jhapa\"\n",
    "        \n",
    "obj = info()\n",
    "print(obj_info__.name,obj_info__.age,obj_info__.add)"
   ]
  },
  {
   "cell_type": "code",
   "execution_count": 16,
   "id": "3c4cfd17",
   "metadata": {},
   "outputs": [
    {
     "ename": "TypeError",
     "evalue": "__init__() takes 1 positional argument but 4 were given",
     "output_type": "error",
     "traceback": [
      "\u001b[1;31m---------------------------------------------------------------------------\u001b[0m",
      "\u001b[1;31mTypeError\u001b[0m                                 Traceback (most recent call last)",
      "\u001b[1;32m~\\AppData\\Local\\Temp/ipykernel_9472/2695922525.py\u001b[0m in \u001b[0;36m<module>\u001b[1;34m\u001b[0m\n\u001b[0;32m     23\u001b[0m         \u001b[0mprint\u001b[0m\u001b[1;33m(\u001b[0m\u001b[0mself\u001b[0m\u001b[1;33m.\u001b[0m\u001b[0mname\u001b[0m\u001b[1;33m,\u001b[0m\u001b[0mself\u001b[0m\u001b[1;33m.\u001b[0m\u001b[0m__age\u001b[0m\u001b[1;33m,\u001b[0m\u001b[0mself\u001b[0m\u001b[1;33m.\u001b[0m\u001b[0m__loct\u001b[0m\u001b[1;33m)\u001b[0m\u001b[1;33m\u001b[0m\u001b[1;33m\u001b[0m\u001b[0m\n\u001b[0;32m     24\u001b[0m \u001b[1;33m\u001b[0m\u001b[0m\n\u001b[1;32m---> 25\u001b[1;33m \u001b[0mobj\u001b[0m \u001b[1;33m=\u001b[0m \u001b[0mC\u001b[0m\u001b[1;33m(\u001b[0m\u001b[1;34m\"ram\"\u001b[0m\u001b[1;33m,\u001b[0m\u001b[1;36m55\u001b[0m\u001b[1;33m,\u001b[0m\u001b[1;34m\"kathmandu\"\u001b[0m\u001b[1;33m)\u001b[0m\u001b[1;33m\u001b[0m\u001b[1;33m\u001b[0m\u001b[0m\n\u001b[0m\u001b[0;32m     26\u001b[0m \u001b[0mobj\u001b[0m\u001b[1;33m.\u001b[0m\u001b[0minfo\u001b[0m\u001b[1;33m(\u001b[0m\u001b[1;33m)\u001b[0m\u001b[1;33m\u001b[0m\u001b[1;33m\u001b[0m\u001b[0m\n",
      "\u001b[1;31mTypeError\u001b[0m: __init__() takes 1 positional argument but 4 were given"
     ]
    }
   ],
   "source": [
    "class A:\n",
    "    def __init__(self):\n",
    "        self.name= \"ram\"\n",
    "    def a(self):\n",
    "        return f\"hello world i am {self.name}\"\n",
    "    \n",
    "    \n",
    "class B:\n",
    "    def __init__(self):\n",
    "        self.__age= 55\n",
    "    def b(self):\n",
    "        return f\"hello world i am {self.__age}\"\n",
    "        \n",
    "    \n",
    "    \n",
    "class C(A,B):\n",
    "    def __init__(self):\n",
    "        self.__loct= \"kathmandu\"\n",
    "        \n",
    "        A. __init__(self)\n",
    "        B. __init__(self)\n",
    "    def info(self):\n",
    "        print(self.name,self.__age,self.__loct)\n",
    "    \n",
    "obj = C(\"ram\",55,\"kathmandu\")\n",
    "obj.info()"
   ]
  },
  {
   "cell_type": "code",
   "execution_count": null,
   "id": "71421bcf",
   "metadata": {},
   "outputs": [],
   "source": []
  }
 ],
 "metadata": {
  "kernelspec": {
   "display_name": "Python 3 (ipykernel)",
   "language": "python",
   "name": "python3"
  },
  "language_info": {
   "codemirror_mode": {
    "name": "ipython",
    "version": 3
   },
   "file_extension": ".py",
   "mimetype": "text/x-python",
   "name": "python",
   "nbconvert_exporter": "python",
   "pygments_lexer": "ipython3",
   "version": "3.9.7"
  }
 },
 "nbformat": 4,
 "nbformat_minor": 5
}
