{
 "cells": [
  {
   "cell_type": "code",
   "execution_count": 19,
   "id": "3962ea55",
   "metadata": {},
   "outputs": [],
   "source": [
    "import mysql.connector  \t\t#importing database\n",
    "\n",
    "database = mysql.connector.connect(\n",
    "  host=\"localhost\",\n",
    "  user=\"root\",\n",
    "  password=\"\",\n",
    "    \n",
    "database=\"python\"\n",
    ")\n",
    "db = database.cursor() "
   ]
  },
  {
   "cell_type": "code",
   "execution_count": 20,
   "id": "5cfe99ab",
   "metadata": {},
   "outputs": [
    {
     "name": "stdout",
     "output_type": "stream",
     "text": [
      "(1, 'ram', 55, 44, 66, 55, 66, 500)\n",
      "(2, 'hari', 55, 55, 88, 77, 99, 800)\n"
     ]
    }
   ],
   "source": [
    "db.execute(\"SELECT * FROM student\")\n",
    "result =db.fetchall()\n",
    "\n",
    "for x in result:\n",
    "    print(x)\n"
   ]
  },
  {
   "cell_type": "code",
   "execution_count": null,
   "id": "6ab9b38c",
   "metadata": {},
   "outputs": [],
   "source": [
    "sql = \"INSERT INTO profile(name,physics,chemistry,math,english,nepali,total)\"\n",
    "values('ram',78,80,,45,88,44,77,66,'A')\n",
    "db.execute(sql)\n",
    "database.commit()"
   ]
  },
  {
   "cell_type": "code",
   "execution_count": 2,
   "id": "ef1cd58c",
   "metadata": {},
   "outputs": [
    {
     "ename": "SyntaxError",
     "evalue": "invalid syntax (Temp/ipykernel_9848/1179190792.py, line 2)",
     "output_type": "error",
     "traceback": [
      "\u001b[1;36m  File \u001b[1;32m\"C:\\Users\\ACER\\AppData\\Local\\Temp/ipykernel_9848/1179190792.py\"\u001b[1;36m, line \u001b[1;32m2\u001b[0m\n\u001b[1;33m    values('bharat',78,80,,45,88,44,77,88,'A')\u001b[0m\n\u001b[1;37m                          ^\u001b[0m\n\u001b[1;31mSyntaxError\u001b[0m\u001b[1;31m:\u001b[0m invalid syntax\n"
     ]
    }
   ],
   "source": [
    "sql = \"INSERT INTO profile(name,physics,chemistry,math,english,nepali,total)\"\n",
    "values('bharat',78,80,,45,88,44,77,88,'A')\n",
    "db.execute(sql)\n",
    "database.commit()"
   ]
  },
  {
   "cell_type": "code",
   "execution_count": null,
   "id": "020276a9",
   "metadata": {},
   "outputs": [],
   "source": [
    "insurt into profile"
   ]
  }
 ],
 "metadata": {
  "kernelspec": {
   "display_name": "Python 3 (ipykernel)",
   "language": "python",
   "name": "python3"
  },
  "language_info": {
   "codemirror_mode": {
    "name": "ipython",
    "version": 3
   },
   "file_extension": ".py",
   "mimetype": "text/x-python",
   "name": "python",
   "nbconvert_exporter": "python",
   "pygments_lexer": "ipython3",
   "version": "3.9.7"
  }
 },
 "nbformat": 4,
 "nbformat_minor": 5
}
