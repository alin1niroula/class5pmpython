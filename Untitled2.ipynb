{
 "cells": [
  {
   "cell_type": "code",
   "execution_count": null,
   "id": "c40554ad",
   "metadata": {},
   "outputs": [],
   "source": [
    "for i in range(5):\n",
    "    print(i)"
   ]
  },
  {
   "cell_type": "code",
   "execution_count": null,
   "id": "9f20942f",
   "metadata": {},
   "outputs": [],
   "source": [
    "for i in range(5):\n",
    "    print(i)\n"
   ]
  },
  {
   "cell_type": "markdown",
   "id": "40c8d44a",
   "metadata": {},
   "source": [
    "# "
   ]
  },
  {
   "cell_type": "code",
   "execution_count": null,
   "id": "b31973d2",
   "metadata": {},
   "outputs": [],
   "source": [
    "10"
   ]
  },
  {
   "cell_type": "code",
   "execution_count": null,
   "id": "3d969c79",
   "metadata": {},
   "outputs": [],
   "source": [
    "bool(10)"
   ]
  },
  {
   "cell_type": "code",
   "execution_count": null,
   "id": "624d6787",
   "metadata": {},
   "outputs": [],
   "source": [
    "bool(1)"
   ]
  },
  {
   "cell_type": "code",
   "execution_count": null,
   "id": "1fdc6ab2",
   "metadata": {},
   "outputs": [],
   "source": [
    "bool(0)"
   ]
  },
  {
   "cell_type": "code",
   "execution_count": null,
   "id": "37c4d608",
   "metadata": {},
   "outputs": [],
   "source": [
    "bool(-2.225)"
   ]
  },
  {
   "cell_type": "code",
   "execution_count": null,
   "id": "77e7ebcf",
   "metadata": {},
   "outputs": [],
   "source": [
    "x=12\n",
    "y=13\n",
    "x<y"
   ]
  },
  {
   "cell_type": "code",
   "execution_count": null,
   "id": "40cdad39",
   "metadata": {},
   "outputs": [],
   "source": [
    "x>y"
   ]
  },
  {
   "cell_type": "code",
   "execution_count": null,
   "id": "55b0c1f1",
   "metadata": {},
   "outputs": [],
   "source": [
    "0*0"
   ]
  },
  {
   "cell_type": "code",
   "execution_count": null,
   "id": "8f514935",
   "metadata": {},
   "outputs": [],
   "source": [
    "True*True"
   ]
  },
  {
   "cell_type": "raw",
   "id": "b4eaa1b6",
   "metadata": {},
   "source": [
    "True&False"
   ]
  },
  {
   "cell_type": "code",
   "execution_count": null,
   "id": "726aa5e0",
   "metadata": {},
   "outputs": [],
   "source": [
    "# if and statement"
   ]
  },
  {
   "cell_type": "code",
   "execution_count": null,
   "id": "21cfc11d",
   "metadata": {},
   "outputs": [],
   "source": [
    "X=10"
   ]
  },
  {
   "cell_type": "code",
   "execution_count": null,
   "id": "b949f04e",
   "metadata": {},
   "outputs": [],
   "source": [
    "if (x>5)"
   ]
  },
  {
   "cell_type": "code",
   "execution_count": 20,
   "id": "76f5c831",
   "metadata": {},
   "outputs": [],
   "source": [
    "x=10\n",
    "if(x>10):\n",
    "    print(\"x is greater than 15\")"
   ]
  },
  {
   "cell_type": "code",
   "execution_count": 3,
   "id": "b98f0f1e",
   "metadata": {},
   "outputs": [
    {
     "ename": "SyntaxError",
     "evalue": "invalid syntax (Temp/ipykernel_12648/2452450896.py, line 1)",
     "output_type": "error",
     "traceback": [
      "\u001b[1;36m  File \u001b[1;32m\"C:\\Users\\ACER\\AppData\\Local\\Temp/ipykernel_12648/2452450896.py\"\u001b[1;36m, line \u001b[1;32m1\u001b[0m\n\u001b[1;33m    print(x is greater than 15)\u001b[0m\n\u001b[1;37m                       ^\u001b[0m\n\u001b[1;31mSyntaxError\u001b[0m\u001b[1;31m:\u001b[0m invalid syntax\n"
     ]
    }
   ],
   "source": [
    "print(x is greater than 15)"
   ]
  },
  {
   "cell_type": "code",
   "execution_count": 21,
   "id": "17a2b2b9",
   "metadata": {},
   "outputs": [
    {
     "ename": "SyntaxError",
     "evalue": "invalid syntax (Temp/ipykernel_12648/2821602342.py, line 2)",
     "output_type": "error",
     "traceback": [
      "\u001b[1;36m  File \u001b[1;32m\"C:\\Users\\ACER\\AppData\\Local\\Temp/ipykernel_12648/2821602342.py\"\u001b[1;36m, line \u001b[1;32m2\u001b[0m\n\u001b[1;33m    print(\"x is evon \"):\u001b[0m\n\u001b[1;37m                        ^\u001b[0m\n\u001b[1;31mSyntaxError\u001b[0m\u001b[1;31m:\u001b[0m invalid syntax\n"
     ]
    }
   ],
   "source": [
    "if(x%2==0):\n",
    "    print(\"x is evon \"):\n",
    "elif((x%5==0)o or(x%7==0))\n",
    "else:\n",
    "    print(\"x cannot be divided\"):\n",
    "    "
   ]
  },
  {
   "cell_type": "code",
   "execution_count": null,
   "id": "6de5647f",
   "metadata": {},
   "outputs": [],
   "source": [
    "#### "
   ]
  },
  {
   "cell_type": "code",
   "execution_count": null,
   "id": "3cf6de62",
   "metadata": {},
   "outputs": [],
   "source": []
  }
 ],
 "metadata": {
  "kernelspec": {
   "display_name": "Python 3 (ipykernel)",
   "language": "python",
   "name": "python3"
  },
  "language_info": {
   "codemirror_mode": {
    "name": "ipython",
    "version": 3
   },
   "file_extension": ".py",
   "mimetype": "text/x-python",
   "name": "python",
   "nbconvert_exporter": "python",
   "pygments_lexer": "ipython3",
   "version": "3.9.7"
  }
 },
 "nbformat": 4,
 "nbformat_minor": 5
}
