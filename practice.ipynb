{
 "cells": [
  {
   "cell_type": "markdown",
   "id": "62bd418f",
   "metadata": {},
   "source": [
    "#formatting print statement"
   ]
  },
  {
   "cell_type": "code",
   "execution_count": 2,
   "id": "a062cc16",
   "metadata": {},
   "outputs": [
    {
     "ename": "NameError",
     "evalue": "name 'x' is not defined",
     "output_type": "error",
     "traceback": [
      "\u001b[1;31m---------------------------------------------------------------------------\u001b[0m",
      "\u001b[1;31mNameError\u001b[0m                                 Traceback (most recent call last)",
      "\u001b[1;32m~\\AppData\\Local\\Temp/ipykernel_12276/2900809382.py\u001b[0m in \u001b[0;36m<module>\u001b[1;34m\u001b[0m\n\u001b[1;32m----> 1\u001b[1;33m \u001b[0mprint\u001b[0m \u001b[1;33m(\u001b[0m\u001b[0mx\u001b[0m\u001b[1;33m)\u001b[0m\u001b[1;33m\u001b[0m\u001b[1;33m\u001b[0m\u001b[0m\n\u001b[0m",
      "\u001b[1;31mNameError\u001b[0m: name 'x' is not defined"
     ]
    }
   ],
   "source": [
    "print (x)"
   ]
  },
  {
   "cell_type": "code",
   "execution_count": 3,
   "id": "6bc38524",
   "metadata": {},
   "outputs": [
    {
     "name": "stdout",
     "output_type": "stream",
     "text": [
      "22\n"
     ]
    }
   ],
   "source": [
    "print(22)"
   ]
  },
  {
   "cell_type": "code",
   "execution_count": 4,
   "id": "527fdc41",
   "metadata": {},
   "outputs": [],
   "source": [
    "a=25"
   ]
  },
  {
   "cell_type": "code",
   "execution_count": 5,
   "id": "af705921",
   "metadata": {},
   "outputs": [
    {
     "name": "stdout",
     "output_type": "stream",
     "text": [
      "my age is(25)\n"
     ]
    }
   ],
   "source": [
    "print(\"my age is(25)\")"
   ]
  },
  {
   "cell_type": "code",
   "execution_count": 6,
   "id": "50b8b7ae",
   "metadata": {},
   "outputs": [
    {
     "name": "stdout",
     "output_type": "stream",
     "text": [
      "my age is 25\n"
     ]
    }
   ],
   "source": [
    "print(\"my age is 25\")"
   ]
  },
  {
   "cell_type": "code",
   "execution_count": 8,
   "id": "3f7bd179",
   "metadata": {},
   "outputs": [
    {
     "name": "stdout",
     "output_type": "stream",
     "text": [
      "my age is, a\n"
     ]
    }
   ],
   "source": [
    "print(\"my age is, a\")"
   ]
  },
  {
   "cell_type": "markdown",
   "id": "79839dbc",
   "metadata": {},
   "source": [
    "formating print statement"
   ]
  },
  {
   "cell_type": "code",
   "execution_count": 10,
   "id": "f62c656a",
   "metadata": {},
   "outputs": [
    {
     "name": "stdout",
     "output_type": "stream",
     "text": [
      "sam: enter your age:my age is 25\n"
     ]
    }
   ],
   "source": [
    "x=input(\"sam: enter your age:\")"
   ]
  },
  {
   "cell_type": "code",
   "execution_count": 11,
   "id": "e3dc2373",
   "metadata": {},
   "outputs": [],
   "source": [
    "a=25"
   ]
  },
  {
   "cell_type": "code",
   "execution_count": 13,
   "id": "00e33d4a",
   "metadata": {},
   "outputs": [],
   "source": [
    "b=a+25"
   ]
  },
  {
   "cell_type": "code",
   "execution_count": 14,
   "id": "6d816a02",
   "metadata": {},
   "outputs": [
    {
     "name": "stdout",
     "output_type": "stream",
     "text": [
      "sam is 25 years old and his father is 50 years old\n"
     ]
    }
   ],
   "source": [
    "print(\"sam is\",a,\"years old and his father is\",b,\"years old\")"
   ]
  },
  {
   "cell_type": "code",
   "execution_count": null,
   "id": "57885f6a",
   "metadata": {},
   "outputs": [],
   "source": []
  }
 ],
 "metadata": {
  "kernelspec": {
   "display_name": "Python 3 (ipykernel)",
   "language": "python",
   "name": "python3"
  },
  "language_info": {
   "codemirror_mode": {
    "name": "ipython",
    "version": 3
   },
   "file_extension": ".py",
   "mimetype": "text/x-python",
   "name": "python",
   "nbconvert_exporter": "python",
   "pygments_lexer": "ipython3",
   "version": "3.9.7"
  }
 },
 "nbformat": 4,
 "nbformat_minor": 5
}
