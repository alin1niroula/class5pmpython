{
 "cells": [
  {
   "cell_type": "code",
   "execution_count": 1,
   "id": "ce40e362",
   "metadata": {},
   "outputs": [],
   "source": [
    "# for loop\n",
    "#while loop"
   ]
  },
  {
   "cell_type": "code",
   "execution_count": 2,
   "id": "e88e27f5",
   "metadata": {},
   "outputs": [],
   "source": [
    "#range(5)    0,1,2,3,4\n",
    "#range(1,5)   1,2,3,4"
   ]
  },
  {
   "cell_type": "code",
   "execution_count": 6,
   "id": "958c4424",
   "metadata": {},
   "outputs": [
    {
     "name": "stdout",
     "output_type": "stream",
     "text": [
      "hello world\n",
      "hello world\n",
      "hello world\n",
      "hello world\n",
      "hello world\n"
     ]
    }
   ],
   "source": [
    "for i in range(5):\n",
    "    print(\"hello world\")"
   ]
  },
  {
   "cell_type": "code",
   "execution_count": 8,
   "id": "3ba62636",
   "metadata": {},
   "outputs": [
    {
     "name": "stdout",
     "output_type": "stream",
     "text": [
      "1 hello world\n",
      "2 hello world\n",
      "3 hello world\n",
      "4 hello world\n"
     ]
    }
   ],
   "source": [
    "for i in range(1,5):\n",
    "    print(i,\"hello world\")"
   ]
  },
  {
   "cell_type": "code",
   "execution_count": 9,
   "id": "0a64b456",
   "metadata": {},
   "outputs": [
    {
     "name": "stdout",
     "output_type": "stream",
     "text": [
      "0 hello world\n",
      "2 hello world\n",
      "4 hello world\n"
     ]
    }
   ],
   "source": [
    "for i in range(0,5,2):\n",
    "    print(i, \"hello world\")\n"
   ]
  },
  {
   "cell_type": "code",
   "execution_count": 10,
   "id": "91f51184",
   "metadata": {},
   "outputs": [
    {
     "name": "stdout",
     "output_type": "stream",
     "text": [
      "enter a=5\n",
      "5\n",
      "5\n",
      "5\n",
      "5\n",
      "5\n",
      "5\n",
      "5\n",
      "5\n",
      "5\n",
      "5\n",
      "5\n"
     ]
    }
   ],
   "source": [
    "n=input(input (\"enter a=\"))\n",
    "for i in range(1,11):\n",
    "    print(5)"
   ]
  },
  {
   "cell_type": "code",
   "execution_count": null,
   "id": "b45f0f64",
   "metadata": {},
   "outputs": [],
   "source": [
    "n=input(input (\"enter a=\"))\n",
    "for i in range(1,11):\n",
    "    print(n,\"+\",i,\"=\",n*1)"
   ]
  },
  {
   "cell_type": "code",
   "execution_count": null,
   "id": "ca5b9fb9",
   "metadata": {},
   "outputs": [],
   "source": []
  }
 ],
 "metadata": {
  "kernelspec": {
   "display_name": "Python 3 (ipykernel)",
   "language": "python",
   "name": "python3"
  },
  "language_info": {
   "codemirror_mode": {
    "name": "ipython",
    "version": 3
   },
   "file_extension": ".py",
   "mimetype": "text/x-python",
   "name": "python",
   "nbconvert_exporter": "python",
   "pygments_lexer": "ipython3",
   "version": "3.9.7"
  }
 },
 "nbformat": 4,
 "nbformat_minor": 5
}
