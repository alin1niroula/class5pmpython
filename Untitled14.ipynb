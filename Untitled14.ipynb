{
 "cells": [
  {
   "cell_type": "code",
   "execution_count": null,
   "id": "67b4c2ac",
   "metadata": {},
   "outputs": [],
   "source": [
    "s=str()\n",
    "net_total=o\n",
    "def cal():\n",
    "    global net_total,s\n",
    "    name=input(\"enter name = \"\")\n",
    "    price=int(input(\"enter price = \"))\n",
    "    quantity=int(input(\"enter quantity = \"))\n",
    "    net_total=net_total=total\n",
    "    s=(name,ptice,quantity,total)\n",
    "    x=input(\"enter space for more entry = \")\n",
    "     print(name,price,quantity,total)\n",
    "               "
   ]
  }
 ],
 "metadata": {
  "kernelspec": {
   "display_name": "Python 3 (ipykernel)",
   "language": "python",
   "name": "python3"
  },
  "language_info": {
   "codemirror_mode": {
    "name": "ipython",
    "version": 3
   },
   "file_extension": ".py",
   "mimetype": "text/x-python",
   "name": "python",
   "nbconvert_exporter": "python",
   "pygments_lexer": "ipython3",
   "version": "3.9.7"
  }
 },
 "nbformat": 4,
 "nbformat_minor": 5
}
