{
 "cells": [
  {
   "cell_type": "code",
   "execution_count": 6,
   "id": "d5087301",
   "metadata": {},
   "outputs": [
    {
     "ename": "SyntaxError",
     "evalue": "invalid syntax (Temp/ipykernel_2816/338059629.py, line 2)",
     "output_type": "error",
     "traceback": [
      "\u001b[1;36m  File \u001b[1;32m\"C:\\Users\\ACER\\AppData\\Local\\Temp/ipykernel_2816/338059629.py\"\u001b[1;36m, line \u001b[1;32m2\u001b[0m\n\u001b[1;33m    of o =='+':\u001b[0m\n\u001b[1;37m       ^\u001b[0m\n\u001b[1;31mSyntaxError\u001b[0m\u001b[1;31m:\u001b[0m invalid syntax\n"
     ]
    }
   ],
   "source": [
    "def cal(a,b,o,):\n",
    "    if o =='+':\n",
    "        print(a+b)\n",
    "    elif o == '-':\n",
    "        print(a-b)\n",
    "    elif o=-'a*b':\n",
    "        print(a*b)\n",
    "    elif'o =='/':\n",
    "        print(a/b)\n",
    "    else:\n",
    "        print(\"invalid operator\")\n",
    "        "
   ]
  },
  {
   "cell_type": "code",
   "execution_count": 7,
   "id": "e535807a",
   "metadata": {},
   "outputs": [
    {
     "name": "stdout",
     "output_type": "stream",
     "text": [
      "enter a = 20\n",
      "enter b = 40\n",
      "enter o = 50\n",
      "invalid operator\n"
     ]
    }
   ],
   "source": [
    "def cal(a,b,o):\n",
    "    if o=='+':\n",
    "        print(a+b)\n",
    "    elif o=='-':\n",
    "        print(a-b)\n",
    "    elif o== '*':\n",
    "        print(a*b)\n",
    "    elif o =='/':\n",
    "        print(a/b)\n",
    "    else:\n",
    "        print(\"invalid operator\")\n",
    "        \n",
    "a=int(input(\"enter a = \"))\n",
    "b=int(input(\"enter b = \"))\n",
    "o=int(int(input(\"enter o = \")))\n",
    "cal(a,b,o)"
   ]
  },
  {
   "cell_type": "code",
   "execution_count": 8,
   "id": "29c4cf90",
   "metadata": {},
   "outputs": [
    {
     "name": "stdout",
     "output_type": "stream",
     "text": [
      "shyam\n",
      "hari\n",
      "sita\n",
      "bharat\n"
     ]
    }
   ],
   "source": [
    "def name(x = \"bharat\"):\n",
    "    print(x)\n",
    "name(\"shyam\")\n",
    "name(\"hari\")\n",
    "name(\"sita\")\n",
    "name()"
   ]
  },
  {
   "cell_type": "code",
   "execution_count": 10,
   "id": "d054ba43",
   "metadata": {},
   "outputs": [
    {
     "name": "stdout",
     "output_type": "stream",
     "text": [
      "hello world\n"
     ]
    }
   ],
   "source": [
    "def hello():\n",
    "    return\"hello world\"\n",
    "print(hello())"
   ]
  },
  {
   "cell_type": "code",
   "execution_count": 11,
   "id": "e43ff23c",
   "metadata": {},
   "outputs": [
    {
     "name": "stdout",
     "output_type": "stream",
     "text": [
      "hello world\n"
     ]
    }
   ],
   "source": [
    "def hello():\n",
    "    return\"hello world\"\n",
    "print(hello())"
   ]
  },
  {
   "cell_type": "code",
   "execution_count": 19,
   "id": "49c6edff",
   "metadata": {},
   "outputs": [
    {
     "name": "stdout",
     "output_type": "stream",
     "text": [
      "enter l = 20\n",
      "enter b - 10\n",
      "200\n"
     ]
    }
   ],
   "source": [
    "def cal(l,b):\n",
    "    a=l*b\n",
    "    return a\n",
    "l=int(input(\"enter l = \"))\n",
    "b=int(input(\"enter b - \"))\n",
    "\n",
    "x = cal (l,b)\n",
    "print(x)"
   ]
  },
  {
   "cell_type": "code",
   "execution_count": null,
   "id": "9467a735",
   "metadata": {},
   "outputs": [],
   "source": []
  }
 ],
 "metadata": {
  "kernelspec": {
   "display_name": "Python 3 (ipykernel)",
   "language": "python",
   "name": "python3"
  },
  "language_info": {
   "codemirror_mode": {
    "name": "ipython",
    "version": 3
   },
   "file_extension": ".py",
   "mimetype": "text/x-python",
   "name": "python",
   "nbconvert_exporter": "python",
   "pygments_lexer": "ipython3",
   "version": "3.9.7"
  }
 },
 "nbformat": 4,
 "nbformat_minor": 5
}
