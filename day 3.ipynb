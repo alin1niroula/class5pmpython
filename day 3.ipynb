{
 "cells": [
  {
   "cell_type": "code",
   "execution_count": 2,
   "id": "4560f28d",
   "metadata": {},
   "outputs": [],
   "source": [
    "# and or\n",
    "# nested loop"
   ]
  },
  {
   "cell_type": "code",
   "execution_count": 3,
   "id": "3bb711cf",
   "metadata": {},
   "outputs": [],
   "source": [
    "# And &\n",
    "#1+1=1\n",
    "#1+0=0\n",
    "#0+1=0\n",
    "#0+0=0"
   ]
  },
  {
   "cell_type": "code",
   "execution_count": 8,
   "id": "7d60cd0e",
   "metadata": {},
   "outputs": [
    {
     "data": {
      "text/plain": [
       "False"
      ]
     },
     "execution_count": 8,
     "metadata": {},
     "output_type": "execute_result"
    }
   ],
   "source": [
    "# And &\n",
    "True and False"
   ]
  },
  {
   "cell_type": "code",
   "execution_count": 9,
   "id": "b149b8bc",
   "metadata": {},
   "outputs": [
    {
     "data": {
      "text/plain": [
       "True"
      ]
     },
     "execution_count": 9,
     "metadata": {},
     "output_type": "execute_result"
    }
   ],
   "source": [
    "#or !\n",
    "True or False"
   ]
  },
  {
   "cell_type": "code",
   "execution_count": 10,
   "id": "409e8e1b",
   "metadata": {},
   "outputs": [
    {
     "name": "stdout",
     "output_type": "stream",
     "text": [
      "enter a-10\n"
     ]
    }
   ],
   "source": [
    "a=int(input(\"enter a-\"))"
   ]
  },
  {
   "cell_type": "code",
   "execution_count": 13,
   "id": "159a3c12",
   "metadata": {},
   "outputs": [
    {
     "name": "stdout",
     "output_type": "stream",
     "text": [
      "enter b=0\n"
     ]
    }
   ],
   "source": [
    "b=int(input(\"enter b=\"))"
   ]
  },
  {
   "cell_type": "code",
   "execution_count": 20,
   "id": "a8ff0300",
   "metadata": {},
   "outputs": [
    {
     "ename": "SyntaxError",
     "evalue": "invalid syntax (Temp/ipykernel_11680/1499771767.py, line 4)",
     "output_type": "error",
     "traceback": [
      "\u001b[1;36m  File \u001b[1;32m\"C:\\Users\\ACER\\AppData\\Local\\Temp/ipykernel_11680/1499771767.py\"\u001b[1;36m, line \u001b[1;32m4\u001b[0m\n\u001b[1;33m    if o='+':\u001b[0m\n\u001b[1;37m        ^\u001b[0m\n\u001b[1;31mSyntaxError\u001b[0m\u001b[1;31m:\u001b[0m invalid syntax\n"
     ]
    }
   ],
   "source": [
    "a=int(input(\"enter a =\"))\n",
    "b=int(input(\"enter b =\"))\n",
    "o=input(\"enter + - * /\")\n",
    "if o='+':\n",
    "    print(a+b)\n",
    "elif 0='-':\n",
    "    print(a-b)\n",
    "elif 0-'*':\n",
    "    print(a*b)\n",
    "elif 0='/' and b=0:\n",
    "    print(a/b)\n",
    "elif 0='/' and b=0:\n",
    "    print(\"the value of b can not be zero\")\n",
    "else:\n",
    "    print(\"invalid operator\")"
   ]
  },
  {
   "cell_type": "code",
   "execution_count": 16,
   "id": "7601b775",
   "metadata": {},
   "outputs": [
    {
     "ename": "SyntaxError",
     "evalue": "invalid syntax (Temp/ipykernel_11680/4240453024.py, line 2)",
     "output_type": "error",
     "traceback": [
      "\u001b[1;36m  File \u001b[1;32m\"C:\\Users\\ACER\\AppData\\Local\\Temp/ipykernel_11680/4240453024.py\"\u001b[1;36m, line \u001b[1;32m2\u001b[0m\n\u001b[1;33m    if a=60\u001b[0m\n\u001b[1;37m        ^\u001b[0m\n\u001b[1;31mSyntaxError\u001b[0m\u001b[1;31m:\u001b[0m invalid syntax\n"
     ]
    }
   ],
   "source": [
    "a=60\n",
    "if a=60"
   ]
  },
  {
   "cell_type": "code",
   "execution_count": 21,
   "id": "75081d46",
   "metadata": {},
   "outputs": [
    {
     "ename": "SyntaxError",
     "evalue": "invalid syntax (Temp/ipykernel_11680/1381259473.py, line 11)",
     "output_type": "error",
     "traceback": [
      "\u001b[1;36m  File \u001b[1;32m\"C:\\Users\\ACER\\AppData\\Local\\Temp/ipykernel_11680/1381259473.py\"\u001b[1;36m, line \u001b[1;32m11\u001b[0m\n\u001b[1;33m    elif o=='/' and b=0:\u001b[0m\n\u001b[1;37m                     ^\u001b[0m\n\u001b[1;31mSyntaxError\u001b[0m\u001b[1;31m:\u001b[0m invalid syntax\n"
     ]
    }
   ],
   "source": [
    "a=int(input(\"enter a =\"))\n",
    "b=int(input(\"enter b =\"))\n",
    "o=input(\"enter + - * /\")\n",
    "if o=='+':\n",
    "    print(a+b)\n",
    "elif o=='-':\n",
    "    print(a-b)\n",
    "elif o=='*':\n",
    "    print(a*b)\n",
    "    \n",
    "elif o=='/' and b=0:\n",
    "    print(a/b)\n",
    "elif o=='/' and b=0:\n",
    "    print(\"the value of b can not be zero\")\n",
    "else:\n",
    "    print(\"invalid operator\")"
   ]
  },
  {
   "cell_type": "code",
   "execution_count": null,
   "id": "75434217",
   "metadata": {},
   "outputs": [],
   "source": []
  }
 ],
 "metadata": {
  "kernelspec": {
   "display_name": "Python 3 (ipykernel)",
   "language": "python",
   "name": "python3"
  },
  "language_info": {
   "codemirror_mode": {
    "name": "ipython",
    "version": 3
   },
   "file_extension": ".py",
   "mimetype": "text/x-python",
   "name": "python",
   "nbconvert_exporter": "python",
   "pygments_lexer": "ipython3",
   "version": "3.9.7"
  }
 },
 "nbformat": 4,
 "nbformat_minor": 5
}
