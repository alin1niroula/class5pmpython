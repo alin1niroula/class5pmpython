{
 "cells": [
  {
   "cell_type": "code",
   "execution_count": 1,
   "id": "b398eb6a",
   "metadata": {},
   "outputs": [
    {
     "name": "stdout",
     "output_type": "stream",
     "text": [
      "0\n",
      "1\n",
      "2\n",
      "3\n",
      "4\n"
     ]
    }
   ],
   "source": [
    "for i in range(5):\n",
    "    print(i)"
   ]
  },
  {
   "cell_type": "code",
   "execution_count": 3,
   "id": "986a609c",
   "metadata": {},
   "outputs": [
    {
     "name": "stdout",
     "output_type": "stream",
     "text": [
      "0 hello world\n",
      "1 hello world\n",
      "2 hello world\n",
      "3 hello world\n",
      "4 hello world\n"
     ]
    }
   ],
   "source": [
    "for i in range(5):\n",
    "    print(i,\"hello world\")"
   ]
  },
  {
   "cell_type": "code",
   "execution_count": 7,
   "id": "2f944c23",
   "metadata": {},
   "outputs": [
    {
     "name": "stdout",
     "output_type": "stream",
     "text": [
      "1 hello world\n",
      "2 hello world\n",
      "3 hello world\n",
      "4 hello world\n"
     ]
    }
   ],
   "source": [
    "for i in range(1,5):\n",
    "    print(i,\"hello world\")"
   ]
  },
  {
   "cell_type": "code",
   "execution_count": 8,
   "id": "89a89e23",
   "metadata": {},
   "outputs": [
    {
     "name": "stdout",
     "output_type": "stream",
     "text": [
      "0 hello world\n",
      "2 hello world\n",
      "4 hello world\n"
     ]
    }
   ],
   "source": [
    "for i in range(0,5,2):\n",
    "    print(i,\"hello world\")"
   ]
  },
  {
   "cell_type": "code",
   "execution_count": 10,
   "id": "b1ad3a14",
   "metadata": {},
   "outputs": [
    {
     "name": "stdout",
     "output_type": "stream",
     "text": [
      "enter n= 5\n",
      "5\n",
      "10\n",
      "15\n",
      "20\n",
      "25\n",
      "30\n",
      "35\n",
      "40\n",
      "45\n",
      "50\n"
     ]
    }
   ],
   "source": [
    "n=int(input(\"enter n= \"))\n",
    "for i in range(1,11):\n",
    "    print(n*i)"
   ]
  },
  {
   "cell_type": "code",
   "execution_count": 11,
   "id": "50efd814",
   "metadata": {},
   "outputs": [
    {
     "name": "stdout",
     "output_type": "stream",
     "text": [
      "enter n = 5\n",
      "5 * 1 = 5\n",
      "5 * 2 = 10\n",
      "5 * 3 = 15\n",
      "5 * 4 = 20\n",
      "5 * 5 = 25\n",
      "5 * 6 = 30\n",
      "5 * 7 = 35\n",
      "5 * 8 = 40\n",
      "5 * 9 = 45\n",
      "5 * 10 = 50\n"
     ]
    }
   ],
   "source": [
    "n=int(input(\"enter n = \"))\n",
    "for i in range(1,11):\n",
    "    print(n,\"*\",i,\"=\",n*i)"
   ]
  },
  {
   "cell_type": "code",
   "execution_count": 17,
   "id": "5ba45a91",
   "metadata": {},
   "outputs": [
    {
     "name": "stdout",
     "output_type": "stream",
     "text": [
      "enter n = 10\n",
      "10 * 1 = 10\n",
      "10 * 2 = 20\n",
      "10 * 3 = 30\n",
      "10 * 4 = 40\n",
      "10 * 5 = 50\n",
      "10 * 6 = 60\n",
      "10 * 7 = 70\n",
      "10 * 8 = 80\n",
      "10 * 9 = 90\n"
     ]
    }
   ],
   "source": [
    "n=int(input(\"enter n = \"))\n",
    "for i in range(1,10):\n",
    "    print(n,\"*\",i,\"=\",n*i)"
   ]
  },
  {
   "cell_type": "code",
   "execution_count": 20,
   "id": "f1b08922",
   "metadata": {},
   "outputs": [
    {
     "name": "stdout",
     "output_type": "stream",
     "text": [
      "enter a = 50\n",
      "50 / 5 = 10.0\n",
      "50 / 6 = 8.333333333333334\n",
      "50 / 7 = 7.142857142857143\n",
      "50 / 8 = 6.25\n",
      "50 / 9 = 5.555555555555555\n",
      "50 / 10 = 5.0\n",
      "50 / 11 = 4.545454545454546\n",
      "50 / 12 = 4.166666666666667\n",
      "50 / 13 = 3.8461538461538463\n",
      "50 / 14 = 3.5714285714285716\n",
      "50 / 15 = 3.3333333333333335\n",
      "50 / 16 = 3.125\n",
      "50 / 17 = 2.9411764705882355\n",
      "50 / 18 = 2.7777777777777777\n",
      "50 / 19 = 2.6315789473684212\n",
      "50 / 20 = 2.5\n",
      "50 / 21 = 2.380952380952381\n",
      "50 / 22 = 2.272727272727273\n",
      "50 / 23 = 2.1739130434782608\n",
      "50 / 24 = 2.0833333333333335\n",
      "50 / 25 = 2.0\n",
      "50 / 26 = 1.9230769230769231\n",
      "50 / 27 = 1.8518518518518519\n",
      "50 / 28 = 1.7857142857142858\n",
      "50 / 29 = 1.7241379310344827\n",
      "50 / 30 = 1.6666666666666667\n",
      "50 / 31 = 1.6129032258064515\n",
      "50 / 32 = 1.5625\n",
      "50 / 33 = 1.5151515151515151\n",
      "50 / 34 = 1.4705882352941178\n",
      "50 / 35 = 1.4285714285714286\n",
      "50 / 36 = 1.3888888888888888\n",
      "50 / 37 = 1.3513513513513513\n",
      "50 / 38 = 1.3157894736842106\n",
      "50 / 39 = 1.2820512820512822\n",
      "50 / 40 = 1.25\n",
      "50 / 41 = 1.2195121951219512\n",
      "50 / 42 = 1.1904761904761905\n",
      "50 / 43 = 1.1627906976744187\n",
      "50 / 44 = 1.1363636363636365\n",
      "50 / 45 = 1.1111111111111112\n",
      "50 / 46 = 1.0869565217391304\n",
      "50 / 47 = 1.0638297872340425\n",
      "50 / 48 = 1.0416666666666667\n",
      "50 / 49 = 1.0204081632653061\n"
     ]
    }
   ],
   "source": [
    "a=int(input(\"enter a = \"))\n",
    "for i in range(5,50):\n",
    "    print(a,\"/\",i,\"=\",a/i)\n"
   ]
  },
  {
   "cell_type": "code",
   "execution_count": 21,
   "id": "31e9243c",
   "metadata": {},
   "outputs": [
    {
     "name": "stdout",
     "output_type": "stream",
     "text": [
      "enter a = 50\n",
      "50 - 5 = 45\n",
      "50 - 6 = 44\n",
      "50 - 7 = 43\n",
      "50 - 8 = 42\n",
      "50 - 9 = 41\n",
      "50 - 10 = 40\n",
      "50 - 11 = 39\n",
      "50 - 12 = 38\n",
      "50 - 13 = 37\n",
      "50 - 14 = 36\n",
      "50 - 15 = 35\n",
      "50 - 16 = 34\n",
      "50 - 17 = 33\n",
      "50 - 18 = 32\n",
      "50 - 19 = 31\n",
      "50 - 20 = 30\n",
      "50 - 21 = 29\n",
      "50 - 22 = 28\n",
      "50 - 23 = 27\n",
      "50 - 24 = 26\n",
      "50 - 25 = 25\n",
      "50 - 26 = 24\n",
      "50 - 27 = 23\n",
      "50 - 28 = 22\n",
      "50 - 29 = 21\n",
      "50 - 30 = 20\n",
      "50 - 31 = 19\n",
      "50 - 32 = 18\n",
      "50 - 33 = 17\n",
      "50 - 34 = 16\n",
      "50 - 35 = 15\n",
      "50 - 36 = 14\n",
      "50 - 37 = 13\n",
      "50 - 38 = 12\n",
      "50 - 39 = 11\n",
      "50 - 40 = 10\n",
      "50 - 41 = 9\n",
      "50 - 42 = 8\n",
      "50 - 43 = 7\n",
      "50 - 44 = 6\n",
      "50 - 45 = 5\n",
      "50 - 46 = 4\n",
      "50 - 47 = 3\n",
      "50 - 48 = 2\n",
      "50 - 49 = 1\n"
     ]
    }
   ],
   "source": [
    "a=int(input(\"enter a = \"))\n",
    "for i in range(5,50):\n",
    "    print(a,\"-\",i,\"=\",a-i)\n"
   ]
  },
  {
   "cell_type": "code",
   "execution_count": 23,
   "id": "a11879d1",
   "metadata": {},
   "outputs": [
    {
     "name": "stdout",
     "output_type": "stream",
     "text": [
      "enter a = 5\n",
      "5\n",
      "10\n",
      "15\n",
      "20\n",
      "25\n"
     ]
    }
   ],
   "source": [
    "s=0\n",
    "a=int(input(\"enter a = \"))\n",
    "for i in range(a):\n",
    "    s=s+a\n",
    "    print(s)"
   ]
  },
  {
   "cell_type": "raw",
   "id": "3fb843d4",
   "metadata": {},
   "source": [
    "s=str()\n",
    "n=int(input(\"enter n = \"))\n",
    "for i in range(n):\n",
    "   \n",
    "    s=s+n\n",
    "print(s)"
   ]
  },
  {
   "cell_type": "code",
   "execution_count": 25,
   "id": "27d85d0a",
   "metadata": {},
   "outputs": [
    {
     "name": "stdout",
     "output_type": "stream",
     "text": [
      "enter n= 2\n",
      "enter x = hello\n",
      "enter x = world\n",
      "helloworld\n"
     ]
    }
   ],
   "source": [
    "s=str()\n",
    "n=int(input(\"enter n= \"))\n",
    "for i in range(n):\n",
    "    x=input(\"enter x = \")\n",
    "    s=s+x\n",
    "print(s)"
   ]
  },
  {
   "cell_type": "code",
   "execution_count": 30,
   "id": "69c6ab6d",
   "metadata": {},
   "outputs": [
    {
     "ename": "SyntaxError",
     "evalue": "invalid syntax (Temp/ipykernel_3612/493843991.py, line 3)",
     "output_type": "error",
     "traceback": [
      "\u001b[1;36m  File \u001b[1;32m\"C:\\Users\\ACER\\AppData\\Local\\Temp/ipykernel_3612/493843991.py\"\u001b[1;36m, line \u001b[1;32m3\u001b[0m\n\u001b[1;33m    for i in range(a)\u001b[0m\n\u001b[1;37m                     ^\u001b[0m\n\u001b[1;31mSyntaxError\u001b[0m\u001b[1;31m:\u001b[0m invalid syntax\n"
     ]
    }
   ],
   "source": [
    "s=float()\n",
    "a=int(input(\"enter a = \"))\n",
    "for i in range(a)\n",
    "    s=(int(\"enter s = \"))\n",
    "\n",
    "    s=s+a\n",
    "print(s)\n",
    "\n"
   ]
  },
  {
   "cell_type": "code",
   "execution_count": 39,
   "id": "521ab678",
   "metadata": {},
   "outputs": [
    {
     "ename": "IndentationError",
     "evalue": "unindent does not match any outer indentation level (<tokenize>, line 6)",
     "output_type": "error",
     "traceback": [
      "\u001b[1;36m  File \u001b[1;32m\"<tokenize>\"\u001b[1;36m, line \u001b[1;32m6\u001b[0m\n\u001b[1;33m    print(s)\u001b[0m\n\u001b[1;37m    ^\u001b[0m\n\u001b[1;31mIndentationError\u001b[0m\u001b[1;31m:\u001b[0m unindent does not match any outer indentation level\n"
     ]
    }
   ],
   "source": [
    "s=str()\n",
    "n=int(input(\"enter n = \"))\n",
    "for i in range (n):\n",
    "        name=input(\"enter name = \")\n",
    "        s= s+name+\"\\n\"\n",
    "    print(s)"
   ]
  },
  {
   "cell_type": "code",
   "execution_count": 15,
   "id": "213c62e9",
   "metadata": {},
   "outputs": [
    {
     "ename": "IndentationError",
     "evalue": "unindent does not match any outer indentation level (<tokenize>, line 6)",
     "output_type": "error",
     "traceback": [
      "\u001b[1;36m  File \u001b[1;32m\"<tokenize>\"\u001b[1;36m, line \u001b[1;32m6\u001b[0m\n\u001b[1;33m    print(s)\u001b[0m\n\u001b[1;37m    ^\u001b[0m\n\u001b[1;31mIndentationError\u001b[0m\u001b[1;31m:\u001b[0m unindent does not match any outer indentation level\n"
     ]
    }
   ],
   "source": [
    "s=str()\n",
    "y=int(input(\"enter y= \"))\n",
    "for i in range(y):\n",
    "        name=input(\"enter name = \")\n",
    "        s=s+name+\"\\y\"\n",
    " print(s)\n"
   ]
  },
  {
   "cell_type": "code",
   "execution_count": null,
   "id": "78f6a0c7",
   "metadata": {},
   "outputs": [],
   "source": []
  },
  {
   "cell_type": "code",
   "execution_count": null,
   "id": "64a654ad",
   "metadata": {},
   "outputs": [],
   "source": []
  }
 ],
 "metadata": {
  "kernelspec": {
   "display_name": "Python 3 (ipykernel)",
   "language": "python",
   "name": "python3"
  },
  "language_info": {
   "codemirror_mode": {
    "name": "ipython",
    "version": 3
   },
   "file_extension": ".py",
   "mimetype": "text/x-python",
   "name": "python",
   "nbconvert_exporter": "python",
   "pygments_lexer": "ipython3",
   "version": "3.9.7"
  }
 },
 "nbformat": 4,
 "nbformat_minor": 5
}
